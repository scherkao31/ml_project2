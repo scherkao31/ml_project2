{
 "cells": [
  {
   "cell_type": "markdown",
   "id": "c864a3de",
   "metadata": {},
   "source": [
    "# <style> \n",
    "    .ma-classe {\n",
    "    font-size: 40 px;\n",
    "}\n",
    "</style>\n",
    "<div class=\"alert alert-warning\">  Load Librairies </div>\n"
   ]
  },
  {
   "cell_type": "code",
   "execution_count": 1,
   "id": "a3f99a60",
   "metadata": {},
   "outputs": [],
   "source": [
    "import torch"
   ]
  },
  {
   "cell_type": "code",
   "execution_count": 2,
   "id": "1a030cae",
   "metadata": {},
   "outputs": [],
   "source": [
    "import csv\n",
    "import pandas as pd\n",
    "import numpy as np\n",
    "import seaborn as sns\n",
    "import matplotlib.pyplot as plt\n",
    "import tensorflow as tf\n",
    "\n",
    "import torch.nn as nn\n",
    "from torch import tensor\n",
    "import torch.nn.functional as F\n",
    "from torch.utils.data import Dataset, DataLoader, WeightedRandomSampler, random_split\n",
    "from torch.optim.lr_scheduler import ReduceLROnPlateau\n",
    "import torch.optim as optim\n",
    "\n",
    "import torchvision\n",
    "from torchvision import utils\n",
    "import torchvision.transforms as transforms\n",
    "\n",
    "from tqdm import tqdm \n",
    "\n",
    "from PIL import Image, ImageDraw\n",
    "import plotly.graph_objs as go"
   ]
  },
  {
   "cell_type": "code",
   "execution_count": 3,
   "id": "fe2648bb",
   "metadata": {},
   "outputs": [],
   "source": [
    "import conf_matrix\n",
    "from conf_matrix import make_confusion_matrix\n",
    "from sklearn import metrics"
   ]
  },
  {
   "cell_type": "markdown",
   "id": "3fcb7233",
   "metadata": {},
   "source": [
    "#  <style> \n",
    "    .ma-classe {\n",
    "    font-size: 40px;\n",
    "}\n",
    "</style>\n",
    "<div class=\"alert alert-danger\">1 |</span></b> Load the data </div>"
   ]
  },
  {
   "cell_type": "code",
   "execution_count": 4,
   "id": "f3702970",
   "metadata": {},
   "outputs": [],
   "source": [
    "ORIGINAL = \"data/original_data/\"\n",
    "TRAIN_DIR = ORIGINAL + \"mut_effect_train.csv\"\n",
    "TEST_DIR = ORIGINAL + \"mut_effect_test.csv\"\n",
    "VAL_DIR =  ORIGINAL + \"mut_effect_validation.csv\"\n",
    "UNIPROT_DIR = ORIGINAL + \"uniprot_fasta_sequences.csv\""
   ]
  },
  {
   "cell_type": "code",
   "execution_count": 5,
   "id": "346b334a",
   "metadata": {},
   "outputs": [],
   "source": [
    "mut_effect_train = pd.read_csv(TRAIN_DIR)\n",
    "mut_effect_test = pd.read_csv(TEST_DIR)\n",
    "mut_effect_val = pd.read_csv(VAL_DIR)\n",
    "\n",
    "uniprot_seq = pd.read_csv(UNIPROT_DIR)"
   ]
  },
  {
   "cell_type": "markdown",
   "id": "7c96d437",
   "metadata": {},
   "source": [
    "#  <style> \n",
    "    .ma-classe {\n",
    "    font-size: 30px;\n",
    "}\n",
    "</style>\n",
    "<div class=\"alert alert-success\"> Exploration of the data</div>"
   ]
  },
  {
   "cell_type": "markdown",
   "id": "fe0164b7",
   "metadata": {},
   "source": [
    "\n",
    "#  <style> \n",
    "    .ma-classe {\n",
    "    font-size: 10 px;\n",
    "}\n",
    "</style>\n",
    "<div class=\"alert alert-info\">1.1.1 |</span></b> Display the original data  </div>"
   ]
  },
  {
   "cell_type": "markdown",
   "id": "650c537f",
   "metadata": {},
   "source": [
    "mut_effect_train, mut_effect_test and mut_effect_test have the same structure. They formed the dataset already divided in three distincts parts : training, testing, validation. \n",
    "Here we display the train set. "
   ]
  },
  {
   "cell_type": "code",
   "execution_count": 6,
   "id": "b1ac6809",
   "metadata": {
    "scrolled": false
   },
   "outputs": [
    {
     "data": {
      "text/html": [
       "<div>\n",
       "<style scoped>\n",
       "    .dataframe tbody tr th:only-of-type {\n",
       "        vertical-align: middle;\n",
       "    }\n",
       "\n",
       "    .dataframe tbody tr th {\n",
       "        vertical-align: top;\n",
       "    }\n",
       "\n",
       "    .dataframe thead th {\n",
       "        text-align: right;\n",
       "    }\n",
       "</style>\n",
       "<table border=\"1\" class=\"dataframe\">\n",
       "  <thead>\n",
       "    <tr style=\"text-align: right;\">\n",
       "      <th></th>\n",
       "      <th>uniprot</th>\n",
       "      <th>ftype</th>\n",
       "      <th>pos</th>\n",
       "      <th>ori_res</th>\n",
       "      <th>var_res</th>\n",
       "      <th>desc</th>\n",
       "      <th>no effect</th>\n",
       "      <th>length</th>\n",
       "    </tr>\n",
       "  </thead>\n",
       "  <tbody>\n",
       "    <tr>\n",
       "      <th>0</th>\n",
       "      <td>Q2G160</td>\n",
       "      <td>mutagenesis site</td>\n",
       "      <td>165</td>\n",
       "      <td>K</td>\n",
       "      <td>C</td>\n",
       "      <td>3125-fold decrease in catalytic activity, and ...</td>\n",
       "      <td>False</td>\n",
       "      <td>293</td>\n",
       "    </tr>\n",
       "    <tr>\n",
       "      <th>1</th>\n",
       "      <td>O33599</td>\n",
       "      <td>mutagenesis site</td>\n",
       "      <td>117</td>\n",
       "      <td>N</td>\n",
       "      <td>A</td>\n",
       "      <td>Activates the enzyme.</td>\n",
       "      <td>False</td>\n",
       "      <td>316</td>\n",
       "    </tr>\n",
       "    <tr>\n",
       "      <th>2</th>\n",
       "      <td>O33599</td>\n",
       "      <td>mutagenesis site</td>\n",
       "      <td>210</td>\n",
       "      <td>H</td>\n",
       "      <td>A</td>\n",
       "      <td>Inactivates the enzyme.</td>\n",
       "      <td>False</td>\n",
       "      <td>316</td>\n",
       "    </tr>\n",
       "    <tr>\n",
       "      <th>3</th>\n",
       "      <td>O33599</td>\n",
       "      <td>mutagenesis site</td>\n",
       "      <td>214</td>\n",
       "      <td>D</td>\n",
       "      <td>A</td>\n",
       "      <td>Inactivates the enzyme.</td>\n",
       "      <td>False</td>\n",
       "      <td>316</td>\n",
       "    </tr>\n",
       "    <tr>\n",
       "      <th>4</th>\n",
       "      <td>O33599</td>\n",
       "      <td>mutagenesis site</td>\n",
       "      <td>291</td>\n",
       "      <td>H</td>\n",
       "      <td>A</td>\n",
       "      <td>Inactivates the enzyme.</td>\n",
       "      <td>False</td>\n",
       "      <td>316</td>\n",
       "    </tr>\n",
       "    <tr>\n",
       "      <th>...</th>\n",
       "      <td>...</td>\n",
       "      <td>...</td>\n",
       "      <td>...</td>\n",
       "      <td>...</td>\n",
       "      <td>...</td>\n",
       "      <td>...</td>\n",
       "      <td>...</td>\n",
       "      <td>...</td>\n",
       "    </tr>\n",
       "    <tr>\n",
       "      <th>46387</th>\n",
       "      <td>C6KT50</td>\n",
       "      <td>mutagenesis site</td>\n",
       "      <td>139</td>\n",
       "      <td>R</td>\n",
       "      <td>A</td>\n",
       "      <td>No activity; when associated with A-136 and A-...</td>\n",
       "      <td>False</td>\n",
       "      <td>301</td>\n",
       "    </tr>\n",
       "    <tr>\n",
       "      <th>46388</th>\n",
       "      <td>C6KT50</td>\n",
       "      <td>mutagenesis site</td>\n",
       "      <td>140</td>\n",
       "      <td>R</td>\n",
       "      <td>A</td>\n",
       "      <td>No activity; when associated with A-136 and A-...</td>\n",
       "      <td>False</td>\n",
       "      <td>301</td>\n",
       "    </tr>\n",
       "    <tr>\n",
       "      <th>46389</th>\n",
       "      <td>C6KT50</td>\n",
       "      <td>mutagenesis site</td>\n",
       "      <td>151</td>\n",
       "      <td>K</td>\n",
       "      <td>A</td>\n",
       "      <td>No activity. The mutant forms hexamers instead...</td>\n",
       "      <td>False</td>\n",
       "      <td>301</td>\n",
       "    </tr>\n",
       "    <tr>\n",
       "      <th>46390</th>\n",
       "      <td>Q8ILG2</td>\n",
       "      <td>mutagenesis site</td>\n",
       "      <td>246</td>\n",
       "      <td>D</td>\n",
       "      <td>A</td>\n",
       "      <td>Loss of catalytic activity.</td>\n",
       "      <td>False</td>\n",
       "      <td>627</td>\n",
       "    </tr>\n",
       "    <tr>\n",
       "      <th>46391</th>\n",
       "      <td>Q8IJP2</td>\n",
       "      <td>mutagenesis site</td>\n",
       "      <td>316</td>\n",
       "      <td>C</td>\n",
       "      <td>S</td>\n",
       "      <td>50% reduction in activity with Zn(2+) as cofac...</td>\n",
       "      <td>False</td>\n",
       "      <td>517</td>\n",
       "    </tr>\n",
       "  </tbody>\n",
       "</table>\n",
       "<p>46392 rows × 8 columns</p>\n",
       "</div>"
      ],
      "text/plain": [
       "      uniprot             ftype  pos ori_res var_res  \\\n",
       "0      Q2G160  mutagenesis site  165       K       C   \n",
       "1      O33599  mutagenesis site  117       N       A   \n",
       "2      O33599  mutagenesis site  210       H       A   \n",
       "3      O33599  mutagenesis site  214       D       A   \n",
       "4      O33599  mutagenesis site  291       H       A   \n",
       "...       ...               ...  ...     ...     ...   \n",
       "46387  C6KT50  mutagenesis site  139       R       A   \n",
       "46388  C6KT50  mutagenesis site  140       R       A   \n",
       "46389  C6KT50  mutagenesis site  151       K       A   \n",
       "46390  Q8ILG2  mutagenesis site  246       D       A   \n",
       "46391  Q8IJP2  mutagenesis site  316       C       S   \n",
       "\n",
       "                                                    desc  no effect  length  \n",
       "0      3125-fold decrease in catalytic activity, and ...      False     293  \n",
       "1                                  Activates the enzyme.      False     316  \n",
       "2                                Inactivates the enzyme.      False     316  \n",
       "3                                Inactivates the enzyme.      False     316  \n",
       "4                                Inactivates the enzyme.      False     316  \n",
       "...                                                  ...        ...     ...  \n",
       "46387  No activity; when associated with A-136 and A-...      False     301  \n",
       "46388  No activity; when associated with A-136 and A-...      False     301  \n",
       "46389  No activity. The mutant forms hexamers instead...      False     301  \n",
       "46390                        Loss of catalytic activity.      False     627  \n",
       "46391  50% reduction in activity with Zn(2+) as cofac...      False     517  \n",
       "\n",
       "[46392 rows x 8 columns]"
      ]
     },
     "execution_count": 6,
     "metadata": {},
     "output_type": "execute_result"
    }
   ],
   "source": [
    "mut_effect_train"
   ]
  },
  {
   "cell_type": "markdown",
   "id": "22137f1b",
   "metadata": {},
   "source": [
    "The uniprot data contains the correspondences between the uniprot code of the studied proteins and their sequences. "
   ]
  },
  {
   "cell_type": "code",
   "execution_count": 7,
   "id": "9a841e51",
   "metadata": {
    "scrolled": true
   },
   "outputs": [
    {
     "data": {
      "text/html": [
       "<div>\n",
       "<style scoped>\n",
       "    .dataframe tbody tr th:only-of-type {\n",
       "        vertical-align: middle;\n",
       "    }\n",
       "\n",
       "    .dataframe tbody tr th {\n",
       "        vertical-align: top;\n",
       "    }\n",
       "\n",
       "    .dataframe thead th {\n",
       "        text-align: right;\n",
       "    }\n",
       "</style>\n",
       "<table border=\"1\" class=\"dataframe\">\n",
       "  <thead>\n",
       "    <tr style=\"text-align: right;\">\n",
       "      <th></th>\n",
       "      <th>uniprot</th>\n",
       "      <th>sequence</th>\n",
       "    </tr>\n",
       "  </thead>\n",
       "  <tbody>\n",
       "    <tr>\n",
       "      <th>0</th>\n",
       "      <td>K0F8Z5</td>\n",
       "      <td>MSSEKIQRVGIIGAGQMGAGIAEVCARAHVDVLVYEQTRELAAAGR...</td>\n",
       "    </tr>\n",
       "    <tr>\n",
       "      <th>1</th>\n",
       "      <td>K0F1Z7</td>\n",
       "      <td>MTRHVDVLIIGAGLSGIGMACHLTREQTGRSYAILERRAAIGGTWD...</td>\n",
       "    </tr>\n",
       "    <tr>\n",
       "      <th>2</th>\n",
       "      <td>K0EI02</td>\n",
       "      <td>MPKARATALITAALIVVVLVAGCTRLVDGRAVSIYDDPFKVAGLPT...</td>\n",
       "    </tr>\n",
       "    <tr>\n",
       "      <th>3</th>\n",
       "      <td>K0EPK0</td>\n",
       "      <td>MYSPIEDWDTDEVWMFLMQYANPWGVSNKDLLTMYQGASADSECPL...</td>\n",
       "    </tr>\n",
       "    <tr>\n",
       "      <th>4</th>\n",
       "      <td>K0EQ80</td>\n",
       "      <td>MTEASADAAGARRRRNRDIAGRHVLITGASSGIGRAAAIAVAGKGA...</td>\n",
       "    </tr>\n",
       "    <tr>\n",
       "      <th>...</th>\n",
       "      <td>...</td>\n",
       "      <td>...</td>\n",
       "    </tr>\n",
       "    <tr>\n",
       "      <th>333188</th>\n",
       "      <td>A0A2K6VSY6</td>\n",
       "      <td>MSGWAAYIKNLLDSSQGIQRAAIVGYPDGAVWARSEGDREFRATDE...</td>\n",
       "    </tr>\n",
       "    <tr>\n",
       "      <th>333189</th>\n",
       "      <td>A0A044S2V0</td>\n",
       "      <td>MFCNCPCIRWDKLFNTVSSRNKVNVIKGGSKSVMLSVPQTSQTGRP...</td>\n",
       "    </tr>\n",
       "    <tr>\n",
       "      <th>333190</th>\n",
       "      <td>A0A158N8U1</td>\n",
       "      <td>MSLIIPEKFQHIHRVMNTNIDGNRKVPFALTAIKGVGRRFAFVVCR...</td>\n",
       "    </tr>\n",
       "    <tr>\n",
       "      <th>333191</th>\n",
       "      <td>A0A044TE30</td>\n",
       "      <td>MSKLQEISEQIDFSAEELKILEWWRERKTFAKSLELSKGRTRYTFY...</td>\n",
       "    </tr>\n",
       "    <tr>\n",
       "      <th>333192</th>\n",
       "      <td>A0A044U154</td>\n",
       "      <td>MNYIIYKKWIFLTVITLTEITYGIVINSFNGLTVGPGQLNGMGSDI...</td>\n",
       "    </tr>\n",
       "  </tbody>\n",
       "</table>\n",
       "<p>333193 rows × 2 columns</p>\n",
       "</div>"
      ],
      "text/plain": [
       "           uniprot                                           sequence\n",
       "0           K0F8Z5  MSSEKIQRVGIIGAGQMGAGIAEVCARAHVDVLVYEQTRELAAAGR...\n",
       "1           K0F1Z7  MTRHVDVLIIGAGLSGIGMACHLTREQTGRSYAILERRAAIGGTWD...\n",
       "2           K0EI02  MPKARATALITAALIVVVLVAGCTRLVDGRAVSIYDDPFKVAGLPT...\n",
       "3           K0EPK0  MYSPIEDWDTDEVWMFLMQYANPWGVSNKDLLTMYQGASADSECPL...\n",
       "4           K0EQ80  MTEASADAAGARRRRNRDIAGRHVLITGASSGIGRAAAIAVAGKGA...\n",
       "...            ...                                                ...\n",
       "333188  A0A2K6VSY6  MSGWAAYIKNLLDSSQGIQRAAIVGYPDGAVWARSEGDREFRATDE...\n",
       "333189  A0A044S2V0  MFCNCPCIRWDKLFNTVSSRNKVNVIKGGSKSVMLSVPQTSQTGRP...\n",
       "333190  A0A158N8U1  MSLIIPEKFQHIHRVMNTNIDGNRKVPFALTAIKGVGRRFAFVVCR...\n",
       "333191  A0A044TE30  MSKLQEISEQIDFSAEELKILEWWRERKTFAKSLELSKGRTRYTFY...\n",
       "333192  A0A044U154  MNYIIYKKWIFLTVITLTEITYGIVINSFNGLTVGPGQLNGMGSDI...\n",
       "\n",
       "[333193 rows x 2 columns]"
      ]
     },
     "execution_count": 7,
     "metadata": {},
     "output_type": "execute_result"
    }
   ],
   "source": [
    "uniprot_seq"
   ]
  },
  {
   "cell_type": "markdown",
   "id": "13c4a228",
   "metadata": {},
   "source": [
    "#  <style> \n",
    "    .ma-classe {\n",
    "    font-size: 30px;\n",
    "}\n",
    "</style>\n",
    "<div class=\"alert alert-success\"> New dataset</div>"
   ]
  },
  {
   "cell_type": "markdown",
   "id": "93c3e51f",
   "metadata": {},
   "source": [
    "In order to exploit the data show above, we first extracted the sequences corresponding to the uniprot codes from the dataset \"uniprot_seq\". Then, thanks to the differents features provided in the original dataset we were able to reconstruct the sequence after mutation. \n",
    "Moreover, for each protein we have kept in the last column: the original amino acid, the amino acid that replaced it and finally the position of the mutation in the sequence. This column allowed us to further analyze the performance of our models to see if there was a correlation between a good prediction and the mutated amino acid. \n",
    "Finally, the y column corresponds to the label of our model. A 1 means that the mutation had no effect and a 0 the opposite. \n"
   ]
  },
  {
   "cell_type": "code",
   "execution_count": 8,
   "id": "af33ae2d",
   "metadata": {},
   "outputs": [],
   "source": [
    "NEW = \"data/extracted_data/\"\n",
    "\n",
    "TRAIN_600 = NEW + \"train_600.csv\"\n",
    "TRAIN_215 = NEW + \"train_215.csv\"\n",
    "VAL_600 = NEW + \"val_600.csv\"\n",
    "VAL_215 = NEW + \"val_215.csv\""
   ]
  },
  {
   "cell_type": "code",
   "execution_count": 9,
   "id": "ac1eacfb",
   "metadata": {},
   "outputs": [],
   "source": [
    "data_train_600 = pd.read_csv(TRAIN_600)\n",
    "data_val_600 = pd.read_csv(VAL_600)\n",
    "data_train_215 = pd.read_csv(TRAIN_215)\n",
    "data_val_215 = pd.read_csv(VAL_215)"
   ]
  },
  {
   "cell_type": "code",
   "execution_count": 10,
   "id": "d31f6d22",
   "metadata": {},
   "outputs": [
    {
     "data": {
      "text/html": [
       "<div>\n",
       "<style scoped>\n",
       "    .dataframe tbody tr th:only-of-type {\n",
       "        vertical-align: middle;\n",
       "    }\n",
       "\n",
       "    .dataframe tbody tr th {\n",
       "        vertical-align: top;\n",
       "    }\n",
       "\n",
       "    .dataframe thead th {\n",
       "        text-align: right;\n",
       "    }\n",
       "</style>\n",
       "<table border=\"1\" class=\"dataframe\">\n",
       "  <thead>\n",
       "    <tr style=\"text-align: right;\">\n",
       "      <th></th>\n",
       "      <th>sequence</th>\n",
       "      <th>sequence_mutated</th>\n",
       "      <th>sequence_mask</th>\n",
       "      <th>Y</th>\n",
       "      <th>amino_info</th>\n",
       "    </tr>\n",
       "  </thead>\n",
       "  <tbody>\n",
       "    <tr>\n",
       "      <th>0</th>\n",
       "      <td>MEAPLVSLDEEFEDLRPSCSEDPEEKPQCFYGSSPHHLEDPSLSEL...</td>\n",
       "      <td>MEAPLVSLDEEFEDLRPSCSEDPEEKPQCFYGSSPHHLEDPSLSEL...</td>\n",
       "      <td>MEAPLVSLDEEFEDLRPSCSEDPEEKPQCFYGSSPHHLEDPSLSEL...</td>\n",
       "      <td>1</td>\n",
       "      <td>('K', 'A', 264)</td>\n",
       "    </tr>\n",
       "    <tr>\n",
       "      <th>1</th>\n",
       "      <td>MGRTFIHASKIKHAARKRKHHSNFRTLIKLLNNDAYKIESSKPLKN...</td>\n",
       "      <td>MGRTFIHASKIKHAARKRKHHSNFRTLIKLLNNDAYKIESSKPLKN...</td>\n",
       "      <td>MGRTFIHASKIKHAARKRKHHSNFRTLIKLLNNDAYKIESSKPLKN...</td>\n",
       "      <td>1</td>\n",
       "      <td>('W', 'A', 75)</td>\n",
       "    </tr>\n",
       "    <tr>\n",
       "      <th>2</th>\n",
       "      <td>MNKTAIALLALLASSASLAATPWQKITQPVPGSAQSIGSFSNGCIV...</td>\n",
       "      <td>MNKTAIALLALLASSASLAATPWQKITQPVPGSAQSIGSFSNGCIV...</td>\n",
       "      <td>MNKTAIALLALLASSASLAATPWQKITQPVPGSAQSIGSFSNGCIV...</td>\n",
       "      <td>0</td>\n",
       "      <td>('H', 'A', 113)</td>\n",
       "    </tr>\n",
       "    <tr>\n",
       "      <th>3</th>\n",
       "      <td>MASSTTRGPRVSDLFSGLPPAVTTPANQSAEASAGNGSVAGADAPA...</td>\n",
       "      <td>MASSTTRGPRVSDLFSGLPPAVTTPANQSAEASAGNGSVAGADAPA...</td>\n",
       "      <td>MASSTTRGPRVSDLFSGLPPAVTTPANQSAEASAGNGSVAGADAPA...</td>\n",
       "      <td>1</td>\n",
       "      <td>('T', 'A', 365)</td>\n",
       "    </tr>\n",
       "    <tr>\n",
       "      <th>4</th>\n",
       "      <td>MRHGDISSSNDTVGVAVVNYKMPRLHTAAEVLDNARKIAEMIVGMK...</td>\n",
       "      <td>MRHGDISSSNDTVGVAVVNYKMPRLHTAAEVLDNARKIAEMIVGMK...</td>\n",
       "      <td>MRHGDISSSNDTVGVAVVNYKMPRLHTAAEVLDNARKIAEMIVGMK...</td>\n",
       "      <td>0</td>\n",
       "      <td>('E', 'Q', 59)</td>\n",
       "    </tr>\n",
       "    <tr>\n",
       "      <th>...</th>\n",
       "      <td>...</td>\n",
       "      <td>...</td>\n",
       "      <td>...</td>\n",
       "      <td>...</td>\n",
       "      <td>...</td>\n",
       "    </tr>\n",
       "    <tr>\n",
       "      <th>4495</th>\n",
       "      <td>MVNPTTSEVQPTMGVKIFSAGVSACLADIITFPLDTAKVRLQIQGE...</td>\n",
       "      <td>MVNPTTSEVQPTMGVKIFSAGVSAALADIITFPLDTAKVRLQIQGE...</td>\n",
       "      <td>MVNPTTSEVQPTMGVKIFSAGVSA?LADIITFPLDTAKVRLQIQGE...</td>\n",
       "      <td>1</td>\n",
       "      <td>('C', 'A', 25)</td>\n",
       "    </tr>\n",
       "    <tr>\n",
       "      <th>4496</th>\n",
       "      <td>MSTRTPSSSSSRLMLTIGLCFLVALMEGLDLQAAGIAAGGIAQAFA...</td>\n",
       "      <td>MSTRTPSSSSSRLMLTIGLCFLVALMEGLDLQAAGIAAGGIAQAFA...</td>\n",
       "      <td>MSTRTPSSSSSRLMLTIGLCFLVALMEGLDLQAAGIAAGGIAQAFA...</td>\n",
       "      <td>0</td>\n",
       "      <td>('D', 'A', 75)</td>\n",
       "    </tr>\n",
       "    <tr>\n",
       "      <th>4497</th>\n",
       "      <td>MANYFNTLNLRQQLAQLGKCRFMGRDEFADGASYLQGKKVVIVGCG...</td>\n",
       "      <td>MANYFNTLNLRQQLAQLGKCRFMGRDEFADGASYLQGKKVVIVGCG...</td>\n",
       "      <td>MANYFNTLNLRQQLAQLGKCRFMGRDEFADGASYLQGKKVVIVGCG...</td>\n",
       "      <td>0</td>\n",
       "      <td>('A', 'S', 71)</td>\n",
       "    </tr>\n",
       "    <tr>\n",
       "      <th>4498</th>\n",
       "      <td>MAQIFNPNPGNTLDTVANALKEQANAANKDVNDAIKALQGTDNADN...</td>\n",
       "      <td>MAQIFNPNPGNTLDTVANALKEQANAANKDVNDAIKALQGTDNADN...</td>\n",
       "      <td>MAQIFNPNPGNTLDTVANALKEQANAANKDVNDAIKALQGTDNADN...</td>\n",
       "      <td>0</td>\n",
       "      <td>('D', 'V', 76)</td>\n",
       "    </tr>\n",
       "    <tr>\n",
       "      <th>4499</th>\n",
       "      <td>MMSEQDLADVVQIAVEDLSPDHPVVLENHVVTDDDEPALKRQRLEI...</td>\n",
       "      <td>MMSEQDLADVVQIAVEDLSPDHPVVLENHVVTDDDEPALKRQRLEI...</td>\n",
       "      <td>MMSEQDLADVVQIAVEDLSPDHPVVLENHVVTDDDEPALKRQRLEI...</td>\n",
       "      <td>1</td>\n",
       "      <td>('S', 'A', 349)</td>\n",
       "    </tr>\n",
       "  </tbody>\n",
       "</table>\n",
       "<p>4500 rows × 5 columns</p>\n",
       "</div>"
      ],
      "text/plain": [
       "                                               sequence  \\\n",
       "0     MEAPLVSLDEEFEDLRPSCSEDPEEKPQCFYGSSPHHLEDPSLSEL...   \n",
       "1     MGRTFIHASKIKHAARKRKHHSNFRTLIKLLNNDAYKIESSKPLKN...   \n",
       "2     MNKTAIALLALLASSASLAATPWQKITQPVPGSAQSIGSFSNGCIV...   \n",
       "3     MASSTTRGPRVSDLFSGLPPAVTTPANQSAEASAGNGSVAGADAPA...   \n",
       "4     MRHGDISSSNDTVGVAVVNYKMPRLHTAAEVLDNARKIAEMIVGMK...   \n",
       "...                                                 ...   \n",
       "4495  MVNPTTSEVQPTMGVKIFSAGVSACLADIITFPLDTAKVRLQIQGE...   \n",
       "4496  MSTRTPSSSSSRLMLTIGLCFLVALMEGLDLQAAGIAAGGIAQAFA...   \n",
       "4497  MANYFNTLNLRQQLAQLGKCRFMGRDEFADGASYLQGKKVVIVGCG...   \n",
       "4498  MAQIFNPNPGNTLDTVANALKEQANAANKDVNDAIKALQGTDNADN...   \n",
       "4499  MMSEQDLADVVQIAVEDLSPDHPVVLENHVVTDDDEPALKRQRLEI...   \n",
       "\n",
       "                                       sequence_mutated  \\\n",
       "0     MEAPLVSLDEEFEDLRPSCSEDPEEKPQCFYGSSPHHLEDPSLSEL...   \n",
       "1     MGRTFIHASKIKHAARKRKHHSNFRTLIKLLNNDAYKIESSKPLKN...   \n",
       "2     MNKTAIALLALLASSASLAATPWQKITQPVPGSAQSIGSFSNGCIV...   \n",
       "3     MASSTTRGPRVSDLFSGLPPAVTTPANQSAEASAGNGSVAGADAPA...   \n",
       "4     MRHGDISSSNDTVGVAVVNYKMPRLHTAAEVLDNARKIAEMIVGMK...   \n",
       "...                                                 ...   \n",
       "4495  MVNPTTSEVQPTMGVKIFSAGVSAALADIITFPLDTAKVRLQIQGE...   \n",
       "4496  MSTRTPSSSSSRLMLTIGLCFLVALMEGLDLQAAGIAAGGIAQAFA...   \n",
       "4497  MANYFNTLNLRQQLAQLGKCRFMGRDEFADGASYLQGKKVVIVGCG...   \n",
       "4498  MAQIFNPNPGNTLDTVANALKEQANAANKDVNDAIKALQGTDNADN...   \n",
       "4499  MMSEQDLADVVQIAVEDLSPDHPVVLENHVVTDDDEPALKRQRLEI...   \n",
       "\n",
       "                                          sequence_mask  Y       amino_info  \n",
       "0     MEAPLVSLDEEFEDLRPSCSEDPEEKPQCFYGSSPHHLEDPSLSEL...  1  ('K', 'A', 264)  \n",
       "1     MGRTFIHASKIKHAARKRKHHSNFRTLIKLLNNDAYKIESSKPLKN...  1   ('W', 'A', 75)  \n",
       "2     MNKTAIALLALLASSASLAATPWQKITQPVPGSAQSIGSFSNGCIV...  0  ('H', 'A', 113)  \n",
       "3     MASSTTRGPRVSDLFSGLPPAVTTPANQSAEASAGNGSVAGADAPA...  1  ('T', 'A', 365)  \n",
       "4     MRHGDISSSNDTVGVAVVNYKMPRLHTAAEVLDNARKIAEMIVGMK...  0   ('E', 'Q', 59)  \n",
       "...                                                 ... ..              ...  \n",
       "4495  MVNPTTSEVQPTMGVKIFSAGVSA?LADIITFPLDTAKVRLQIQGE...  1   ('C', 'A', 25)  \n",
       "4496  MSTRTPSSSSSRLMLTIGLCFLVALMEGLDLQAAGIAAGGIAQAFA...  0   ('D', 'A', 75)  \n",
       "4497  MANYFNTLNLRQQLAQLGKCRFMGRDEFADGASYLQGKKVVIVGCG...  0   ('A', 'S', 71)  \n",
       "4498  MAQIFNPNPGNTLDTVANALKEQANAANKDVNDAIKALQGTDNADN...  0   ('D', 'V', 76)  \n",
       "4499  MMSEQDLADVVQIAVEDLSPDHPVVLENHVVTDDDEPALKRQRLEI...  1  ('S', 'A', 349)  \n",
       "\n",
       "[4500 rows x 5 columns]"
      ]
     },
     "execution_count": 10,
     "metadata": {},
     "output_type": "execute_result"
    }
   ],
   "source": [
    "data_train_600"
   ]
  },
  {
   "cell_type": "markdown",
   "id": "5b5adcbb",
   "metadata": {},
   "source": [
    "#  <style> \n",
    "    .ma-classe {\n",
    "    font-size: 40px;\n",
    "}\n",
    "</style>\n",
    "<div class=\"alert alert-danger\">2 |</span></b> Residual NN and CNN  </div>"
   ]
  },
  {
   "cell_type": "markdown",
   "id": "670e3175",
   "metadata": {},
   "source": [
    "#  <style> \n",
    "    .ma-classe {\n",
    "    font-size: 30px;\n",
    "}\n",
    "</style>\n",
    "<div class=\"alert alert-success\">2.1 |</span></b> Preprocessing </div>"
   ]
  },
  {
   "cell_type": "markdown",
   "id": "486f7830",
   "metadata": {},
   "source": [
    "#  <style> \n",
    "    .ma-classe {\n",
    "    font-size: 10 px;\n",
    "}\n",
    "</style>\n",
    "<div class=\"alert alert-info\">2.1.1 |</span></b> Integer encoding </div>"
   ]
  },
  {
   "cell_type": "markdown",
   "id": "4f83b301",
   "metadata": {},
   "source": [
    "There are 20 different amino acids that can compose our sequences. For each amino acid, an integer has been associated. The sequence of amino acids has been transformed into a sequence of integers.\n",
    "First we create a dictionary that assigns to each amino acid an integer."
   ]
  },
  {
   "cell_type": "code",
   "execution_count": 11,
   "id": "52813eb3",
   "metadata": {},
   "outputs": [
    {
     "name": "stdout",
     "output_type": "stream",
     "text": [
      "{'A': 1, 'C': 2, 'D': 3, 'E': 4, 'F': 5, 'G': 6, 'H': 7, 'I': 8, 'K': 9, 'L': 10, 'M': 11, 'N': 12, 'P': 13, 'Q': 14, 'R': 15, 'S': 16, 'T': 17, 'V': 18, 'W': 19, 'Y': 20}\n",
      "Dict Length: 20\n"
     ]
    }
   ],
   "source": [
    "codes = ['A', 'C', 'D', 'E', 'F', 'G', 'H', 'I', 'K', 'L',\n",
    "         'M', 'N', 'P', 'Q', 'R', 'S', 'T', 'V', 'W', 'Y']\n",
    "\n",
    "def create_dict(codes):\n",
    "    char_dict = {}\n",
    "    for index, val in enumerate(codes):\n",
    "        char_dict[val] = index+1\n",
    "\n",
    "    return char_dict\n",
    "\n",
    "char_dict = create_dict(codes)\n",
    "\n",
    "print(char_dict)\n",
    "print(\"Dict Length:\", len(char_dict))"
   ]
  },
  {
   "cell_type": "markdown",
   "id": "ce60bdfd",
   "metadata": {},
   "source": [
    "This function converts each amino acid sequence into a series of integers as defined above. "
   ]
  },
  {
   "cell_type": "code",
   "execution_count": 12,
   "id": "aa87b13e",
   "metadata": {},
   "outputs": [],
   "source": [
    "def integer_encoding(seq):\n",
    "    \"\"\"\n",
    "    - Encodes code sequence to integer values.\n",
    "    - 20 common amino acids are taken into consideration\n",
    ".\n",
    "    \"\"\"\n",
    "    seq_encode = []\n",
    "    for code in seq:\n",
    "        seq_encode.append(char_dict.get(code, 0))\n",
    "\n",
    "    return seq_encode"
   ]
  },
  {
   "cell_type": "markdown",
   "id": "555e6f15",
   "metadata": {},
   "source": [
    "# <style> \n",
    "    .ma-classe {\n",
    "    font-size: 10 px;\n",
    "}\n",
    "</style>\n",
    "<div class=\"alert alert-info\">2.1.2 |</span></b> Padding the sequence </div>"
   ]
  },
  {
   "cell_type": "markdown",
   "id": "5da36ad1",
   "metadata": {},
   "source": [
    "This function takes a sequence and the maximum length value (in our case the value is either 215 or 600). If the length of the sequence is less than the maximum length then it adds zeros on both sides of the sequence so that the length of the sequences is homogeneous in our dataset. "
   ]
  },
  {
   "cell_type": "code",
   "execution_count": 13,
   "id": "24605ec6",
   "metadata": {},
   "outputs": [],
   "source": [
    "def pad_seq(seq, max_len):\n",
    "    \n",
    "    if len(seq) < max_len:\n",
    "        num_add = max_len - len(seq)\n",
    "        each_side = int(num_add/2)\n",
    "        if ( each_side * 2 != num_add): \n",
    "            left = each_side\n",
    "            right = each_side + 1 \n",
    "        else : \n",
    "            left = each_side\n",
    "            right = each_side\n",
    "        out = np.pad(seq, (left, right))\n",
    "    else:\n",
    "        out = seq\n",
    "    return out"
   ]
  },
  {
   "cell_type": "markdown",
   "id": "5b5cbed4",
   "metadata": {},
   "source": [
    "# <style> \n",
    "    .ma-classe {\n",
    "    font-size: 10 px;\n",
    "}\n",
    "</style>\n",
    "<div class=\"alert alert-info\">2.1.3 |</span></b> One hot encoding </div>"
   ]
  },
  {
   "cell_type": "markdown",
   "id": "109e7452",
   "metadata": {},
   "source": [
    "Finally we transform the sequence into its corresponding one hot encode."
   ]
  },
  {
   "cell_type": "code",
   "execution_count": 14,
   "id": "dbd0ee1d",
   "metadata": {},
   "outputs": [],
   "source": [
    "def seq_to_one_hot(seq, num_values):\n",
    "    one_hot_encode = []\n",
    "    for s in seq:\n",
    "\n",
    "        arr = np.zeros(num_values, dtype = int)\n",
    "        if (s == 0): \n",
    "            arr[s] = 0\n",
    "        else : \n",
    "            arr[s] = 1\n",
    "        one_hot_encode.append(arr)\n",
    "        \n",
    "    return np.array(one_hot_encode)"
   ]
  },
  {
   "cell_type": "markdown",
   "id": "187e53bc",
   "metadata": {},
   "source": [
    "# <style> \n",
    "    .ma-classe {\n",
    "    font-size: 10 px;\n",
    "}\n",
    "</style>\n",
    "<div class=\"alert alert-warning\">  Function encode </div>\n"
   ]
  },
  {
   "cell_type": "markdown",
   "id": "7b240553",
   "metadata": {},
   "source": [
    "This function gathers the three functions evoked previously.\n",
    "We can directly provide it with an input amino acid sequence and the maximum length set in our dataset and it returns the corresponding one hot encode."
   ]
  },
  {
   "cell_type": "code",
   "execution_count": 15,
   "id": "60b29476",
   "metadata": {},
   "outputs": [],
   "source": [
    "def pad_seq(seq, max_len):\n",
    "    if len(seq) < max_len:\n",
    "        num_add = max_len - len(seq)\n",
    "        each_side = int(num_add/2)\n",
    "        if ( each_side * 2 != num_add): \n",
    "            left = each_side\n",
    "            right = each_side + 1 \n",
    "        else : \n",
    "            left = each_side\n",
    "            right = each_side\n",
    "        out = np.pad(seq, (left, right))\n",
    "    else:\n",
    "        out = seq\n",
    "    return out"
   ]
  },
  {
   "cell_type": "code",
   "execution_count": 16,
   "id": "f451d41a",
   "metadata": {},
   "outputs": [],
   "source": [
    "def encode(seq, max_len): \n",
    "    num_values = 21 \n",
    "    temp = integer_encoding(seq)\n",
    "\n",
    "    temp = pad_seq(temp,max_len)\n",
    "\n",
    "    one_hot_seq = seq_to_one_hot(temp, num_values)\n",
    "\n",
    "    return one_hot_seq"
   ]
  },
  {
   "cell_type": "markdown",
   "id": "9447f738",
   "metadata": {},
   "source": [
    "#  <style> \n",
    "    .ma-classe {\n",
    "    font-size: 30px;\n",
    "}\n",
    "</style>\n",
    "<div class=\"alert alert-success\"> 2.2 |</span></b> Classification technique : Residual Neural Network </div>"
   ]
  },
  {
   "cell_type": "markdown",
   "id": "62c33581",
   "metadata": {},
   "source": [
    "# <style> \n",
    "    .ma-classe {\n",
    "    font-size: 10 px;\n",
    "}\n",
    "</style>\n",
    "<div class=\"alert alert-info\">2.2.1 |</span></b> Custom Dataset and Data Loader </div>"
   ]
  },
  {
   "cell_type": "markdown",
   "id": "b13acb2b",
   "metadata": {},
   "source": [
    "# <style> \n",
    "    .ma-classe {\n",
    "    font-size: 10 px;\n",
    "}\n",
    "</style>\n",
    "<div class=\"alert alert-warning\">  Custom Dataset </div>\n"
   ]
  },
  {
   "cell_type": "markdown",
   "id": "f98bd204",
   "metadata": {},
   "source": [
    "Creation of a ProteinDataset class. It allows to transform the mutated and non-mutated sequences of our inputs into one hot encoding for all our datasets. Moreover, the two sequences once transformed are concatenated : they form the input of our model. Our data are also transformed into tensors. "
   ]
  },
  {
   "cell_type": "code",
   "execution_count": 17,
   "id": "ab1fe44e",
   "metadata": {},
   "outputs": [],
   "source": [
    "transfrom_data= transforms.Compose([transforms.ToTensor()])"
   ]
  },
  {
   "cell_type": "code",
   "execution_count": 37,
   "id": "1127e76f",
   "metadata": {},
   "outputs": [],
   "source": [
    "class ProteinDataset(Dataset):\n",
    "    def __init__(self, df, root_dir, max_seq, transform=None):\n",
    "        self.df = df\n",
    "        self.transform = transform\n",
    "        self.root_dir = root_dir\n",
    "        self.max_seq = max_seq\n",
    "        \n",
    "    def __len__(self):\n",
    "        return len(self.df)    \n",
    "    \n",
    "    def __getitem__(self, idx):\n",
    "        row = self.df.loc[idx]\n",
    "        seq_, seq_mut, label = row['sequence'], row['sequence_mutated'], row['Y']\n",
    "        seq, seq_mut = encode(seq_, self.max_seq), encode(seq_mut, self.max_seq)\n",
    "        if self.transform:\n",
    "            seq = self.transform(seq)\n",
    "            seq_mut = self.transform(seq_mut)\n",
    "        inputs = torch.cat((seq, seq_mut), axis = 0)  \n",
    "        inputs = inputs.float()\n",
    "\n",
    "        return inputs, label"
   ]
  },
  {
   "cell_type": "code",
   "execution_count": 49,
   "id": "4f32690e",
   "metadata": {},
   "outputs": [],
   "source": [
    "SEQUENCE_600 = 600\n",
    "SEQUENCE_215 = 215"
   ]
  },
  {
   "cell_type": "code",
   "execution_count": 50,
   "id": "4e1876e7",
   "metadata": {},
   "outputs": [],
   "source": [
    "data_train_600_ds = ProteinDataset(data_train_600, TRAIN_600, SEQUENCE_600, transform=transfrom_data)\n",
    "data_val_600_ds = ProteinDataset(data_val_600, VAL_600, SEQUENCE_600, transform=transfrom_data)\n",
    "\n",
    "data_train_215_ds = ProteinDataset(data_train_215, TRAIN_215, SEQUENCE_215, transform=transfrom_data)\n",
    "data_val_215_ds = ProteinDataset(data_val_215, VAL_215, SEQUENCE_215, transform=transfrom_data)"
   ]
  },
  {
   "cell_type": "markdown",
   "id": "c0a45ac7",
   "metadata": {},
   "source": [
    "# <style> \n",
    "    .ma-classe {\n",
    "    font-size: 10 px;\n",
    "}\n",
    "</style>\n",
    "<div class=\"alert alert-warning\">  Data Loader</div>\n"
   ]
  },
  {
   "cell_type": "markdown",
   "id": "9b5ae2a0",
   "metadata": {},
   "source": [
    "Then we use the Dataloader functionality of pytorch.\n",
    "That allows you to efficiently load and preprocess a dataset for training or evaluation. It takes a dataset and a batch size as input and returns an iterator over the dataset that returns a batch of data on each iteration."
   ]
  },
  {
   "cell_type": "code",
   "execution_count": 51,
   "id": "fa198449",
   "metadata": {},
   "outputs": [],
   "source": [
    "batch_size = 4 "
   ]
  },
  {
   "cell_type": "code",
   "execution_count": 52,
   "id": "f7751f27",
   "metadata": {},
   "outputs": [],
   "source": [
    "data_train_600_dl = DataLoader(data_train_600_ds, batch_size)\n",
    "data_val_600_dl = DataLoader(data_val_600_ds, batch_size = 1)\n",
    "\n",
    "data_train_215_dl = DataLoader(data_train_215_ds, batch_size  = 1)\n",
    "data_val_215_dl = DataLoader(data_val_215_ds, batch_size = 1)"
   ]
  },
  {
   "cell_type": "code",
   "execution_count": 53,
   "id": "63c7a229",
   "metadata": {},
   "outputs": [
    {
     "data": {
      "text/plain": [
       "torch.Size([4, 2, 600, 21])"
      ]
     },
     "execution_count": 53,
     "metadata": {},
     "output_type": "execute_result"
    }
   ],
   "source": [
    "inputs, labels = next(iter(data_train_600_dl))\n",
    "inputs.shape"
   ]
  },
  {
   "cell_type": "markdown",
   "id": "ef023ded",
   "metadata": {},
   "source": [
    "# <style> \n",
    "    .ma-classe {\n",
    "    font-size: 10 px;\n",
    "}\n",
    "</style>\n",
    "<div class=\"alert alert-info\">2.2.2 |</span></b> Define the model </div>"
   ]
  },
  {
   "cell_type": "code",
   "execution_count": 54,
   "id": "be0ed581",
   "metadata": {},
   "outputs": [],
   "source": [
    "class ResidualBlock(nn.Module):\n",
    "    def __init__(self,in_channels, out_channels, d_rate):\n",
    "        super().__init__()\n",
    "        self.conv1 = nn.Sequential(\n",
    "                        nn.Conv2d(in_channels, out_channels, kernel_size = 1, dilation = d_rate, padding = 'same'), \n",
    "                        nn.BatchNorm2d(in_channels), \n",
    "                        nn.ReLU())\n",
    "        self.relu = nn.ReLU()\n",
    "        self.batch_norm = nn.BatchNorm2d(in_channels)\n",
    "    def forward(self, x):\n",
    "        residual = x \n",
    "        x = self.relu(self.batch_norm(x))\n",
    "        out = self.conv1(x)\n",
    "        out = out + residual\n",
    "        out = self.relu(out)\n",
    "        return out"
   ]
  },
  {
   "cell_type": "code",
   "execution_count": 78,
   "id": "97200921",
   "metadata": {},
   "outputs": [],
   "source": [
    "class ResidualNN(nn.Module): \n",
    "    def __init__(self):\n",
    "        super(ResidualNN, self).__init__()  # just run the init of parent class (nn.Module)\n",
    "\n",
    "        self.conv1 = nn.Conv2d(in_channels = 2, out_channels = 16, kernel_size = 1)\n",
    "        self.res1 = ResidualBlock(in_channels = 16, out_channels = 16, d_rate = 2 )\n",
    "        self.res2 = ResidualBlock(in_channels = 16, out_channels = 16, d_rate = 4 )\n",
    "        self.pool = nn.MaxPool2d(3)\n",
    "        self.dropout = nn.Dropout(0.5)\n",
    "        \n",
    "        self.fc1 = nn.Linear(22400, 120) \n",
    "        self.fc2 = nn.Linear(120, 84)\n",
    "        self.fc3 = nn.Linear(84, 2)\n",
    "        self.soft = nn.Softmax(dim = 1)\n",
    "    def forward(self, x):\n",
    "        x = self.conv1(x)\n",
    "        x = self.res1(x)\n",
    "        x = self.res2(x)\n",
    "        x = self.dropout(self.pool(x))\n",
    "        x = torch.flatten(x,1)\n",
    "        x = F.relu(x)\n",
    "        x = self.fc1(x)\n",
    "        x = self.fc2(x)\n",
    "        x = self.fc3(x)\n",
    "        outputs = self.soft(x)\n",
    "        return outputs"
   ]
  },
  {
   "cell_type": "markdown",
   "id": "f943367e",
   "metadata": {},
   "source": [
    "# <style> \n",
    "    .ma-classe {\n",
    "    font-size: 10 px;\n",
    "}\n",
    "</style>\n",
    "<div class=\"alert alert-info\">2.2.3 |</span></b> Define the loss function, the optimizer and the hyperparametre </div>"
   ]
  },
  {
   "cell_type": "code",
   "execution_count": 79,
   "id": "cfaead4c",
   "metadata": {},
   "outputs": [],
   "source": [
    "num_epochs = 25"
   ]
  },
  {
   "cell_type": "code",
   "execution_count": 80,
   "id": "009042c9",
   "metadata": {},
   "outputs": [],
   "source": [
    "criterion = nn.CrossEntropyLoss()\n",
    "optimizer = optim.SGD( model.parameters(), lr = 0.0001, momentum = 0.9)\n",
    "scheduler = ReduceLROnPlateau(optimizer, mode='min', factor=0.1, patience= 5,\n",
    "                                                 threshold=0.0001, threshold_mode='rel', cooldown=0,\n",
    "                                                 min_lr=0, eps=1e-05, verbose=False)"
   ]
  },
  {
   "cell_type": "markdown",
   "id": "854f004a",
   "metadata": {},
   "source": [
    "# <style> \n",
    "    .ma-classe {\n",
    "    font-size: 10 px;\n",
    "}\n",
    "</style>\n",
    "<div class=\"alert alert-info\">2.2.4 |</span></b> Training </div>"
   ]
  },
  {
   "cell_type": "code",
   "execution_count": 81,
   "id": "b3bd80b4",
   "metadata": {},
   "outputs": [],
   "source": [
    "model = ResidualNN()"
   ]
  },
  {
   "cell_type": "code",
   "execution_count": 82,
   "id": "9b7b3e8d",
   "metadata": {
    "scrolled": true
   },
   "outputs": [
    {
     "name": "stderr",
     "output_type": "stream",
     "text": [
      "0it [00:00, ?it/s]\n"
     ]
    },
    {
     "ename": "RuntimeError",
     "evalue": "mat1 and mat2 shapes cannot be multiplied (1x7952 and 22400x120)",
     "output_type": "error",
     "traceback": [
      "\u001b[1;31m---------------------------------------------------------------------------\u001b[0m",
      "\u001b[1;31mRuntimeError\u001b[0m                              Traceback (most recent call last)",
      "\u001b[1;32m~\\AppData\\Local\\Temp\\ipykernel_1760\\2645953849.py\u001b[0m in \u001b[0;36m<module>\u001b[1;34m\u001b[0m\n\u001b[0;32m     15\u001b[0m \u001b[1;33m\u001b[0m\u001b[0m\n\u001b[0;32m     16\u001b[0m         \u001b[1;31m# forward + backward + optimize\u001b[0m\u001b[1;33m\u001b[0m\u001b[1;33m\u001b[0m\u001b[0m\n\u001b[1;32m---> 17\u001b[1;33m         \u001b[0moutputs\u001b[0m \u001b[1;33m=\u001b[0m \u001b[0mmodel\u001b[0m\u001b[1;33m(\u001b[0m\u001b[0minputs\u001b[0m\u001b[1;33m)\u001b[0m\u001b[1;33m\u001b[0m\u001b[1;33m\u001b[0m\u001b[0m\n\u001b[0m\u001b[0;32m     18\u001b[0m \u001b[1;33m\u001b[0m\u001b[0m\n\u001b[0;32m     19\u001b[0m         \u001b[1;31m#print(labels)\u001b[0m\u001b[1;33m\u001b[0m\u001b[1;33m\u001b[0m\u001b[0m\n",
      "\u001b[1;32m~\\anaconda3\\lib\\site-packages\\torch\\nn\\modules\\module.py\u001b[0m in \u001b[0;36m_call_impl\u001b[1;34m(self, *input, **kwargs)\u001b[0m\n\u001b[0;32m   1188\u001b[0m         if not (self._backward_hooks or self._forward_hooks or self._forward_pre_hooks or _global_backward_hooks\n\u001b[0;32m   1189\u001b[0m                 or _global_forward_hooks or _global_forward_pre_hooks):\n\u001b[1;32m-> 1190\u001b[1;33m             \u001b[1;32mreturn\u001b[0m \u001b[0mforward_call\u001b[0m\u001b[1;33m(\u001b[0m\u001b[1;33m*\u001b[0m\u001b[0minput\u001b[0m\u001b[1;33m,\u001b[0m \u001b[1;33m**\u001b[0m\u001b[0mkwargs\u001b[0m\u001b[1;33m)\u001b[0m\u001b[1;33m\u001b[0m\u001b[1;33m\u001b[0m\u001b[0m\n\u001b[0m\u001b[0;32m   1191\u001b[0m         \u001b[1;31m# Do not call functions when jit is used\u001b[0m\u001b[1;33m\u001b[0m\u001b[1;33m\u001b[0m\u001b[0m\n\u001b[0;32m   1192\u001b[0m         \u001b[0mfull_backward_hooks\u001b[0m\u001b[1;33m,\u001b[0m \u001b[0mnon_full_backward_hooks\u001b[0m \u001b[1;33m=\u001b[0m \u001b[1;33m[\u001b[0m\u001b[1;33m]\u001b[0m\u001b[1;33m,\u001b[0m \u001b[1;33m[\u001b[0m\u001b[1;33m]\u001b[0m\u001b[1;33m\u001b[0m\u001b[1;33m\u001b[0m\u001b[0m\n",
      "\u001b[1;32m~\\AppData\\Local\\Temp\\ipykernel_1760\\3770343731.py\u001b[0m in \u001b[0;36mforward\u001b[1;34m(self, x)\u001b[0m\n\u001b[0;32m     20\u001b[0m         \u001b[0mx\u001b[0m \u001b[1;33m=\u001b[0m \u001b[0mtorch\u001b[0m\u001b[1;33m.\u001b[0m\u001b[0mflatten\u001b[0m\u001b[1;33m(\u001b[0m\u001b[0mx\u001b[0m\u001b[1;33m,\u001b[0m\u001b[1;36m1\u001b[0m\u001b[1;33m)\u001b[0m\u001b[1;33m\u001b[0m\u001b[1;33m\u001b[0m\u001b[0m\n\u001b[0;32m     21\u001b[0m         \u001b[0mx\u001b[0m \u001b[1;33m=\u001b[0m \u001b[0mF\u001b[0m\u001b[1;33m.\u001b[0m\u001b[0mrelu\u001b[0m\u001b[1;33m(\u001b[0m\u001b[0mx\u001b[0m\u001b[1;33m)\u001b[0m\u001b[1;33m\u001b[0m\u001b[1;33m\u001b[0m\u001b[0m\n\u001b[1;32m---> 22\u001b[1;33m         \u001b[0mx\u001b[0m \u001b[1;33m=\u001b[0m \u001b[0mself\u001b[0m\u001b[1;33m.\u001b[0m\u001b[0mfc1\u001b[0m\u001b[1;33m(\u001b[0m\u001b[0mx\u001b[0m\u001b[1;33m)\u001b[0m\u001b[1;33m\u001b[0m\u001b[1;33m\u001b[0m\u001b[0m\n\u001b[0m\u001b[0;32m     23\u001b[0m         \u001b[0mx\u001b[0m \u001b[1;33m=\u001b[0m \u001b[0mself\u001b[0m\u001b[1;33m.\u001b[0m\u001b[0mfc2\u001b[0m\u001b[1;33m(\u001b[0m\u001b[0mx\u001b[0m\u001b[1;33m)\u001b[0m\u001b[1;33m\u001b[0m\u001b[1;33m\u001b[0m\u001b[0m\n\u001b[0;32m     24\u001b[0m         \u001b[0mx\u001b[0m \u001b[1;33m=\u001b[0m \u001b[0mself\u001b[0m\u001b[1;33m.\u001b[0m\u001b[0mfc3\u001b[0m\u001b[1;33m(\u001b[0m\u001b[0mx\u001b[0m\u001b[1;33m)\u001b[0m\u001b[1;33m\u001b[0m\u001b[1;33m\u001b[0m\u001b[0m\n",
      "\u001b[1;32m~\\anaconda3\\lib\\site-packages\\torch\\nn\\modules\\module.py\u001b[0m in \u001b[0;36m_call_impl\u001b[1;34m(self, *input, **kwargs)\u001b[0m\n\u001b[0;32m   1188\u001b[0m         if not (self._backward_hooks or self._forward_hooks or self._forward_pre_hooks or _global_backward_hooks\n\u001b[0;32m   1189\u001b[0m                 or _global_forward_hooks or _global_forward_pre_hooks):\n\u001b[1;32m-> 1190\u001b[1;33m             \u001b[1;32mreturn\u001b[0m \u001b[0mforward_call\u001b[0m\u001b[1;33m(\u001b[0m\u001b[1;33m*\u001b[0m\u001b[0minput\u001b[0m\u001b[1;33m,\u001b[0m \u001b[1;33m**\u001b[0m\u001b[0mkwargs\u001b[0m\u001b[1;33m)\u001b[0m\u001b[1;33m\u001b[0m\u001b[1;33m\u001b[0m\u001b[0m\n\u001b[0m\u001b[0;32m   1191\u001b[0m         \u001b[1;31m# Do not call functions when jit is used\u001b[0m\u001b[1;33m\u001b[0m\u001b[1;33m\u001b[0m\u001b[0m\n\u001b[0;32m   1192\u001b[0m         \u001b[0mfull_backward_hooks\u001b[0m\u001b[1;33m,\u001b[0m \u001b[0mnon_full_backward_hooks\u001b[0m \u001b[1;33m=\u001b[0m \u001b[1;33m[\u001b[0m\u001b[1;33m]\u001b[0m\u001b[1;33m,\u001b[0m \u001b[1;33m[\u001b[0m\u001b[1;33m]\u001b[0m\u001b[1;33m\u001b[0m\u001b[1;33m\u001b[0m\u001b[0m\n",
      "\u001b[1;32m~\\anaconda3\\lib\\site-packages\\torch\\nn\\modules\\linear.py\u001b[0m in \u001b[0;36mforward\u001b[1;34m(self, input)\u001b[0m\n\u001b[0;32m    112\u001b[0m \u001b[1;33m\u001b[0m\u001b[0m\n\u001b[0;32m    113\u001b[0m     \u001b[1;32mdef\u001b[0m \u001b[0mforward\u001b[0m\u001b[1;33m(\u001b[0m\u001b[0mself\u001b[0m\u001b[1;33m,\u001b[0m \u001b[0minput\u001b[0m\u001b[1;33m:\u001b[0m \u001b[0mTensor\u001b[0m\u001b[1;33m)\u001b[0m \u001b[1;33m->\u001b[0m \u001b[0mTensor\u001b[0m\u001b[1;33m:\u001b[0m\u001b[1;33m\u001b[0m\u001b[1;33m\u001b[0m\u001b[0m\n\u001b[1;32m--> 114\u001b[1;33m         \u001b[1;32mreturn\u001b[0m \u001b[0mF\u001b[0m\u001b[1;33m.\u001b[0m\u001b[0mlinear\u001b[0m\u001b[1;33m(\u001b[0m\u001b[0minput\u001b[0m\u001b[1;33m,\u001b[0m \u001b[0mself\u001b[0m\u001b[1;33m.\u001b[0m\u001b[0mweight\u001b[0m\u001b[1;33m,\u001b[0m \u001b[0mself\u001b[0m\u001b[1;33m.\u001b[0m\u001b[0mbias\u001b[0m\u001b[1;33m)\u001b[0m\u001b[1;33m\u001b[0m\u001b[1;33m\u001b[0m\u001b[0m\n\u001b[0m\u001b[0;32m    115\u001b[0m \u001b[1;33m\u001b[0m\u001b[0m\n\u001b[0;32m    116\u001b[0m     \u001b[1;32mdef\u001b[0m \u001b[0mextra_repr\u001b[0m\u001b[1;33m(\u001b[0m\u001b[0mself\u001b[0m\u001b[1;33m)\u001b[0m \u001b[1;33m->\u001b[0m \u001b[0mstr\u001b[0m\u001b[1;33m:\u001b[0m\u001b[1;33m\u001b[0m\u001b[1;33m\u001b[0m\u001b[0m\n",
      "\u001b[1;31mRuntimeError\u001b[0m: mat1 and mat2 shapes cannot be multiplied (1x7952 and 22400x120)"
     ]
    }
   ],
   "source": [
    "for epoch in range(num_epochs):  # loop over the dataset multiple times\n",
    "\n",
    "    training_loss = 0.0\n",
    "    validation_loss = 0.0\n",
    "  \n",
    "    for i, data in tqdm(enumerate(data_train_215_dl, 0)):\n",
    "\n",
    "        \n",
    "        inputs, labels = data\n",
    "        labels = labels.long()\n",
    "        model.train()\n",
    "        \n",
    "        # zero the parameter gradients\n",
    "        optimizer.zero_grad()\n",
    "\n",
    "        # forward + backward + optimize\n",
    "        outputs = model(inputs)\n",
    "        \n",
    "        #print(labels)\n",
    "        loss = criterion(outputs, labels)\n",
    "        loss.backward()\n",
    "        optimizer.step()                                                  # Update parameters based on gradients.\n",
    "\n",
    "        # print statistics\n",
    "            # to print the training loss each iteration\n",
    "        training_loss += loss.item()\n",
    "\n",
    "        \n",
    "        if i % 100 == 99:    # print mean of the loss every 100 mini-batches\n",
    "            print(f'[{epoch + 1}, {i + 1:5d}] Loss training: {training_loss / 100:.3f}')\n",
    "            training_loss = 0.0\n",
    "            \n",
    "    # validation \n",
    "    correct = 0\n",
    "    total = 0\n",
    "    # since we're not training, we don't need to calculate the gradients for our outputs\n",
    "           \n",
    "    with torch.no_grad():\n",
    "        counter = 0\n",
    "        for i, data in tqdm(enumerate(data_val_215_dl, 0)):\n",
    "            counter += 1\n",
    "            \n",
    "            model.eval()\n",
    "            inputs, labels = data\n",
    "            # calculate outputs by running images through the network\n",
    "            outputs = model(inputs)\n",
    "\n",
    "            # the class with the highest energy is what we choose as prediction calculate accuracy\n",
    "            _, predicted = torch.max(outputs.data, 1)\n",
    "            total += labels.size(0)\n",
    "            correct += (predicted == labels).sum().item()\n",
    "\n",
    "            val_loss = criterion(outputs, labels)\n",
    "            validation_loss += val_loss.item()                \n",
    "    \n",
    "    last_val = validation_loss / counter\n",
    "    print(f'[{epoch + 1}, {i + 1:5d}] Loss_validation: {validation_loss / counter:.3f}')\n",
    "    print(f'Accuracy of the network on the validation set: {100 * correct // total} %')   \n",
    "\n",
    "        \n",
    "    #scheduler \n",
    "    scheduler.step(last_val)\n",
    "    print('Epoch {}, lr {}'.format(epoch, optimizer.param_groups[0]['lr']))\n",
    "    \n",
    "print('Finished Training')"
   ]
  },
  {
   "cell_type": "code",
   "execution_count": null,
   "id": "7b828934",
   "metadata": {},
   "outputs": [],
   "source": [
    "PATH = \"ResidualNN_215.pth\"\n",
    "torch.save(model.state_dict(), PATH)"
   ]
  },
  {
   "cell_type": "markdown",
   "id": "dfa40ef6",
   "metadata": {},
   "source": [
    "# <style> \n",
    "    .ma-classe {\n",
    "    font-size: 10 px;\n",
    "}\n",
    "</style>\n",
    "<div class=\"alert alert-info\">2.2.5 |</span></b> Testing </div>"
   ]
  },
  {
   "cell_type": "markdown",
   "id": "b21c86f4",
   "metadata": {},
   "source": [
    "# <style> \n",
    "    .ma-classe {\n",
    "    font-size: 10 px;\n",
    "}\n",
    "</style>\n",
    "<div class=\"alert alert-warning\">  Test on dataset with length less than 600 </div>\n"
   ]
  },
  {
   "cell_type": "code",
   "execution_count": 83,
   "id": "f3a17638",
   "metadata": {
    "scrolled": true
   },
   "outputs": [
    {
     "data": {
      "text/plain": [
       "ResidualNN(\n",
       "  (conv1): Conv2d(2, 16, kernel_size=(1, 1), stride=(1, 1))\n",
       "  (res1): ResidualBlock(\n",
       "    (conv1): Sequential(\n",
       "      (0): Conv2d(16, 16, kernel_size=(1, 1), stride=(1, 1), padding=same, dilation=(2, 2))\n",
       "      (1): BatchNorm2d(16, eps=1e-05, momentum=0.1, affine=True, track_running_stats=True)\n",
       "      (2): ReLU()\n",
       "    )\n",
       "    (relu): ReLU()\n",
       "    (batch_norm): BatchNorm2d(16, eps=1e-05, momentum=0.1, affine=True, track_running_stats=True)\n",
       "  )\n",
       "  (res2): ResidualBlock(\n",
       "    (conv1): Sequential(\n",
       "      (0): Conv2d(16, 16, kernel_size=(1, 1), stride=(1, 1), padding=same, dilation=(4, 4))\n",
       "      (1): BatchNorm2d(16, eps=1e-05, momentum=0.1, affine=True, track_running_stats=True)\n",
       "      (2): ReLU()\n",
       "    )\n",
       "    (relu): ReLU()\n",
       "    (batch_norm): BatchNorm2d(16, eps=1e-05, momentum=0.1, affine=True, track_running_stats=True)\n",
       "  )\n",
       "  (pool): MaxPool2d(kernel_size=3, stride=3, padding=0, dilation=1, ceil_mode=False)\n",
       "  (dropout): Dropout(p=0.5, inplace=False)\n",
       "  (fc1): Linear(in_features=22400, out_features=120, bias=True)\n",
       "  (fc2): Linear(in_features=120, out_features=84, bias=True)\n",
       "  (fc3): Linear(in_features=84, out_features=2, bias=True)\n",
       "  (soft): Softmax(dim=1)\n",
       ")"
      ]
     },
     "execution_count": 83,
     "metadata": {},
     "output_type": "execute_result"
    }
   ],
   "source": [
    "PATH = \"ResidualNN_600.pth\"\n",
    "\n",
    "model = ResidualNN( )\n",
    "model.load_state_dict(torch.load(PATH))\n",
    "model.eval()"
   ]
  },
  {
   "cell_type": "code",
   "execution_count": 84,
   "id": "fb978a43",
   "metadata": {},
   "outputs": [],
   "source": [
    "def test(data_val): \n",
    "    correct = 0\n",
    "    total = 0\n",
    "\n",
    "    actual = []\n",
    "    predicted = []\n",
    "\n",
    "    # since we're not training, we don't need to calculate the gradients for our outputs\n",
    "    with torch.no_grad():\n",
    "        for data in tqdm(data_val):\n",
    "            inputs, labels = data\n",
    "\n",
    "            #print(labels)\n",
    "            actual.append(labels.numpy()[-1])\n",
    "            # calculate outputs by running images through the network\n",
    "            outputs = model(inputs)\n",
    "            # the class with the highest energy is what we choose as prediction\n",
    "            _, pred = torch.max(outputs.data, 1)\n",
    "            predicted.append(pred.numpy()[-1])\n",
    "\n",
    "            total += labels.size(0)\n",
    "            correct += (pred == labels).sum().item()\n",
    "\n",
    "    print(f'Accuracy of the network on the 10000 test images: {100 * correct // total} %')\n",
    "    confusion_matrix = metrics.confusion_matrix(actual, predicted)\n",
    "    make_confusion_matrix(confusion_matrix)"
   ]
  },
  {
   "cell_type": "code",
   "execution_count": 86,
   "id": "145e70c6",
   "metadata": {},
   "outputs": [
    {
     "name": "stderr",
     "output_type": "stream",
     "text": [
      "100%|██████████| 1085/1085 [00:12<00:00, 88.69it/s]\n"
     ]
    },
    {
     "name": "stdout",
     "output_type": "stream",
     "text": [
      "Accuracy of the network on the 10000 test images: 85 %\n"
     ]
    },
    {
     "data": {
      "image/png": "[encoded data removed]",
      "text/plain": [
       "<Figure size 640x480 with 2 Axes>"
      ]
     },
     "metadata": {},
     "output_type": "display_data"
    }
   ],
   "source": [
    "test(data_val_600_dl)"
   ]
  },
  {
   "cell_type": "markdown",
   "id": "6e724a17",
   "metadata": {},
   "source": [
    "# <style> \n",
    "    .ma-classe {\n",
    "    font-size: 10 px;\n",
    "}\n",
    "</style>\n",
    "<div class=\"alert alert-warning\">  Test on dataset with length less than 215 </div>"
   ]
  },
  {
   "cell_type": "code",
   "execution_count": null,
   "id": "8604bdd9",
   "metadata": {},
   "outputs": [],
   "source": [
    "PATH = \"ResidualNN_215.pth\"\n",
    "\n",
    "model = ResidualNN()\n",
    "model.load_state_dict(torch.load(PATH))\n",
    "model.eval()"
   ]
  },
  {
   "cell_type": "code",
   "execution_count": null,
   "id": "2f894fb2",
   "metadata": {},
   "outputs": [],
   "source": [
    "test(data_val_215_dl)"
   ]
  },
  {
   "cell_type": "markdown",
   "id": "10ef3baf",
   "metadata": {},
   "source": [
    "# <style> \n",
    "    .ma-classe {\n",
    "    font-size: 10 px;\n",
    "}\n",
    "</style>\n",
    "<div class=\"alert alert-warning\">  Test on dataset cut around the mutation with different length </div>"
   ]
  },
  {
   "cell_type": "code",
   "execution_count": null,
   "id": "55d76942",
   "metadata": {},
   "outputs": [],
   "source": [
    "VAL_CUT_5 = NEW + \"val_cut_5.csv\"\n",
    "VAL_CUT_10 = NEW + \"val_cut_10.csv\"\n",
    "VAL_CUT_20 = NEW + \"val_cut_20.csv\"\n",
    "VAL_CUT_50 = NEW + \"val_cut_50.csv\""
   ]
  },
  {
   "cell_type": "code",
   "execution_count": null,
   "id": "96f7f6a3",
   "metadata": {},
   "outputs": [],
   "source": [
    "data_val_cut_5 = pd.read_csv(VAL_CUT_5)\n",
    "data_val_cut_10 = pd.read_csv(VAL_CUT_10)\n",
    "data_val_cut_20 = pd.read_csv(VAL_CUT_20)\n",
    "data_val_cut_50 = pd.read_csv(VAL_CUT_50)"
   ]
  },
  {
   "cell_type": "code",
   "execution_count": null,
   "id": "5203f264",
   "metadata": {},
   "outputs": [],
   "source": [
    "data_val_cut_5_ds = ProteinDataset(data_val_cut_5, VAL_CUT_5, SEQUENCE_215, transform=transfrom_data)\n",
    "data_val_cut_10_ds = ProteinDataset(data_val_cut_10, VAL_CUT_10, SEQUENCE_215, transform=transfrom_data)\n",
    "data_val_cut_20_ds = ProteinDataset(data_val_cut_20, VAL_CUT_20, SEQUENCE_215, transform=transfrom_data)\n",
    "data_val_cut_50_ds = ProteinDataset(data_val_cut_50, VAL_CUT_50, SEQUENCE_215, transform=transfrom_data)"
   ]
  },
  {
   "cell_type": "code",
   "execution_count": null,
   "id": "f1514461",
   "metadata": {},
   "outputs": [],
   "source": [
    "data_val_cut_5_dl = DataLoader(data_val_cut_5_ds, batch_size = 1)\n",
    "data_val_cut_10_dl = DataLoader(data_val_cut_10_ds, batch_size = 1)\n",
    "data_val_cut_20_dl = DataLoader(data_val_cut_20_ds, batch_size = 1)\n",
    "data_val_cut_50_dl = DataLoader(data_val_cut_50_ds, batch_size = 1)"
   ]
  },
  {
   "cell_type": "code",
   "execution_count": null,
   "id": "b246fb59",
   "metadata": {},
   "outputs": [],
   "source": [
    "test(data_val_cut_5_dl)"
   ]
  },
  {
   "cell_type": "markdown",
   "id": "e2eda249",
   "metadata": {},
   "source": [
    "#  <style> \n",
    "    .ma-classe {\n",
    "    font-size: 30px;\n",
    "}\n",
    "</style>\n",
    "<div class=\"alert alert-success\"> 2.3 |</span></b> Classification technique : Convolutional Neural Network </div>"
   ]
  },
  {
   "cell_type": "markdown",
   "id": "df6735a1",
   "metadata": {},
   "source": [
    "## CNN"
   ]
  },
  {
   "cell_type": "code",
   "execution_count": null,
   "id": "dc771029",
   "metadata": {},
   "outputs": [],
   "source": []
  },
  {
   "cell_type": "markdown",
   "id": "d6952913",
   "metadata": {},
   "source": [
    "## Residual NN "
   ]
  },
  {
   "cell_type": "markdown",
   "id": "9322a947",
   "metadata": {},
   "source": [
    "# Model 3 "
   ]
  },
  {
   "cell_type": "code",
   "execution_count": null,
   "id": "b9e6d75f",
   "metadata": {},
   "outputs": [],
   "source": []
  }
 ],
 "metadata": {
  "kernelspec": {
   "display_name": "Python 3 (ipykernel)",
   "language": "python",
   "name": "python3"
  },
  "language_info": {
   "codemirror_mode": {
    "name": "ipython",
    "version": 3
   },
   "file_extension": ".py",
   "mimetype": "text/x-python",
   "name": "python",
   "nbconvert_exporter": "python",
   "pygments_lexer": "ipython3",
   "version": "3.9.13"
  }
 },
 "nbformat": 4,
 "nbformat_minor": 5
}
