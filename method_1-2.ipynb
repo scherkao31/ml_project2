{
 "cells": [
  {
   "cell_type": "markdown",
   "id": "c864a3de",
   "metadata": {},
   "source": [
    "# <style> \n",
    "    .ma-classe {\n",
    "    font-size: 40 px;\n",
    "}\n",
    "</style>\n",
    "<div class=\"alert alert-warning\">  Load Librairies </div>\n"
   ]
  },
  {
   "cell_type": "code",
   "execution_count": 181,
   "id": "a3f99a60",
   "metadata": {},
   "outputs": [],
   "source": [
    "import torch"
   ]
  },
  {
   "cell_type": "code",
   "execution_count": 182,
   "id": "1a030cae",
   "metadata": {},
   "outputs": [],
   "source": [
    "import csv\n",
    "import pandas as pd\n",
    "import numpy as np\n",
    "import seaborn as sns\n",
    "import matplotlib.pyplot as plt\n",
    "import tensorflow as tf\n",
    "\n",
    "import torch.nn as nn\n",
    "from torch import tensor\n",
    "import torch.nn.functional as F\n",
    "from torch.utils.data import Dataset, DataLoader, WeightedRandomSampler, random_split\n",
    "from torch.optim.lr_scheduler import ReduceLROnPlateau\n",
    "import torch.optim as optim\n",
    "\n",
    "import torchvision\n",
    "from torchvision import utils\n",
    "import torchvision.transforms as transforms\n",
    "\n",
    "from tqdm import tqdm \n",
    "import copy\n",
    "\n",
    "from plotly.subplots import make_subplots\n",
    "\n",
    "from PIL import Image, ImageDraw\n",
    "import plotly.graph_objs as go"
   ]
  },
  {
   "cell_type": "code",
   "execution_count": 183,
   "id": "fe2648bb",
   "metadata": {},
   "outputs": [],
   "source": [
    "import conf_matrix\n",
    "from utils.conf_matrix import make_confusion_matrix\n",
    "from sklearn import metrics"
   ]
  },
  {
   "attachments": {},
   "cell_type": "markdown",
   "id": "3fcb7233",
   "metadata": {},
   "source": [
    "# 1 | Load the data"
   ]
  },
  {
   "cell_type": "code",
   "execution_count": 204,
   "id": "f3702970",
   "metadata": {},
   "outputs": [],
   "source": [
    "ORIGINAL = \"datasets/\"\n",
    "TRAIN_DIR = ORIGINAL + \"mut_effect_train.csv\"\n",
    "TEST_DIR = ORIGINAL + \"mut_effect_test.csv\"\n",
    "VAL_DIR =  ORIGINAL + \"mut_effect_validation.csv\"\n",
    "UNIPROT_DIR = ORIGINAL + \"uniprot_fasta_sequences.csv\""
   ]
  },
  {
   "cell_type": "code",
   "execution_count": 205,
   "id": "346b334a",
   "metadata": {},
   "outputs": [],
   "source": [
    "mut_effect_train = pd.read_csv(TRAIN_DIR)\n",
    "mut_effect_test = pd.read_csv(TEST_DIR)\n",
    "mut_effect_val = pd.read_csv(VAL_DIR)\n",
    "\n",
    "uniprot_seq = pd.read_csv(UNIPROT_DIR)"
   ]
  },
  {
   "attachments": {},
   "cell_type": "markdown",
   "id": "7c96d437",
   "metadata": {},
   "source": [
    "## 1.1 |</span></b> Exploration of the data</div>"
   ]
  },
  {
   "attachments": {},
   "cell_type": "markdown",
   "id": "fe0164b7",
   "metadata": {},
   "source": [
    "\n",
    "### Display the original data  </div>"
   ]
  },
  {
   "cell_type": "markdown",
   "id": "650c537f",
   "metadata": {},
   "source": [
    "mut_effect_train, mut_effect_test and mut_effect_test have the same structure. They formed the dataset already divided in three distincts parts : training, testing, validation. \n",
    "Here we display the train set. "
   ]
  },
  {
   "cell_type": "code",
   "execution_count": 206,
   "id": "b1ac6809",
   "metadata": {
    "scrolled": false
   },
   "outputs": [
    {
     "data": {
      "text/html": [
       "<div>\n",
       "<style scoped>\n",
       "    .dataframe tbody tr th:only-of-type {\n",
       "        vertical-align: middle;\n",
       "    }\n",
       "\n",
       "    .dataframe tbody tr th {\n",
       "        vertical-align: top;\n",
       "    }\n",
       "\n",
       "    .dataframe thead th {\n",
       "        text-align: right;\n",
       "    }\n",
       "</style>\n",
       "<table border=\"1\" class=\"dataframe\">\n",
       "  <thead>\n",
       "    <tr style=\"text-align: right;\">\n",
       "      <th></th>\n",
       "      <th>uniprot</th>\n",
       "      <th>ftype</th>\n",
       "      <th>pos</th>\n",
       "      <th>ori_res</th>\n",
       "      <th>var_res</th>\n",
       "      <th>desc</th>\n",
       "      <th>no effect</th>\n",
       "      <th>length</th>\n",
       "    </tr>\n",
       "  </thead>\n",
       "  <tbody>\n",
       "    <tr>\n",
       "      <th>0</th>\n",
       "      <td>Q2G160</td>\n",
       "      <td>mutagenesis site</td>\n",
       "      <td>165</td>\n",
       "      <td>K</td>\n",
       "      <td>C</td>\n",
       "      <td>3125-fold decrease in catalytic activity, and ...</td>\n",
       "      <td>False</td>\n",
       "      <td>293</td>\n",
       "    </tr>\n",
       "    <tr>\n",
       "      <th>1</th>\n",
       "      <td>O33599</td>\n",
       "      <td>mutagenesis site</td>\n",
       "      <td>117</td>\n",
       "      <td>N</td>\n",
       "      <td>A</td>\n",
       "      <td>Activates the enzyme.</td>\n",
       "      <td>False</td>\n",
       "      <td>316</td>\n",
       "    </tr>\n",
       "    <tr>\n",
       "      <th>2</th>\n",
       "      <td>O33599</td>\n",
       "      <td>mutagenesis site</td>\n",
       "      <td>210</td>\n",
       "      <td>H</td>\n",
       "      <td>A</td>\n",
       "      <td>Inactivates the enzyme.</td>\n",
       "      <td>False</td>\n",
       "      <td>316</td>\n",
       "    </tr>\n",
       "    <tr>\n",
       "      <th>3</th>\n",
       "      <td>O33599</td>\n",
       "      <td>mutagenesis site</td>\n",
       "      <td>214</td>\n",
       "      <td>D</td>\n",
       "      <td>A</td>\n",
       "      <td>Inactivates the enzyme.</td>\n",
       "      <td>False</td>\n",
       "      <td>316</td>\n",
       "    </tr>\n",
       "    <tr>\n",
       "      <th>4</th>\n",
       "      <td>O33599</td>\n",
       "      <td>mutagenesis site</td>\n",
       "      <td>291</td>\n",
       "      <td>H</td>\n",
       "      <td>A</td>\n",
       "      <td>Inactivates the enzyme.</td>\n",
       "      <td>False</td>\n",
       "      <td>316</td>\n",
       "    </tr>\n",
       "    <tr>\n",
       "      <th>...</th>\n",
       "      <td>...</td>\n",
       "      <td>...</td>\n",
       "      <td>...</td>\n",
       "      <td>...</td>\n",
       "      <td>...</td>\n",
       "      <td>...</td>\n",
       "      <td>...</td>\n",
       "      <td>...</td>\n",
       "    </tr>\n",
       "    <tr>\n",
       "      <th>46387</th>\n",
       "      <td>C6KT50</td>\n",
       "      <td>mutagenesis site</td>\n",
       "      <td>139</td>\n",
       "      <td>R</td>\n",
       "      <td>A</td>\n",
       "      <td>No activity; when associated with A-136 and A-...</td>\n",
       "      <td>False</td>\n",
       "      <td>301</td>\n",
       "    </tr>\n",
       "    <tr>\n",
       "      <th>46388</th>\n",
       "      <td>C6KT50</td>\n",
       "      <td>mutagenesis site</td>\n",
       "      <td>140</td>\n",
       "      <td>R</td>\n",
       "      <td>A</td>\n",
       "      <td>No activity; when associated with A-136 and A-...</td>\n",
       "      <td>False</td>\n",
       "      <td>301</td>\n",
       "    </tr>\n",
       "    <tr>\n",
       "      <th>46389</th>\n",
       "      <td>C6KT50</td>\n",
       "      <td>mutagenesis site</td>\n",
       "      <td>151</td>\n",
       "      <td>K</td>\n",
       "      <td>A</td>\n",
       "      <td>No activity. The mutant forms hexamers instead...</td>\n",
       "      <td>False</td>\n",
       "      <td>301</td>\n",
       "    </tr>\n",
       "    <tr>\n",
       "      <th>46390</th>\n",
       "      <td>Q8ILG2</td>\n",
       "      <td>mutagenesis site</td>\n",
       "      <td>246</td>\n",
       "      <td>D</td>\n",
       "      <td>A</td>\n",
       "      <td>Loss of catalytic activity.</td>\n",
       "      <td>False</td>\n",
       "      <td>627</td>\n",
       "    </tr>\n",
       "    <tr>\n",
       "      <th>46391</th>\n",
       "      <td>Q8IJP2</td>\n",
       "      <td>mutagenesis site</td>\n",
       "      <td>316</td>\n",
       "      <td>C</td>\n",
       "      <td>S</td>\n",
       "      <td>50% reduction in activity with Zn(2+) as cofac...</td>\n",
       "      <td>False</td>\n",
       "      <td>517</td>\n",
       "    </tr>\n",
       "  </tbody>\n",
       "</table>\n",
       "<p>46392 rows × 8 columns</p>\n",
       "</div>"
      ],
      "text/plain": [
       "      uniprot             ftype  pos ori_res var_res  \\\n",
       "0      Q2G160  mutagenesis site  165       K       C   \n",
       "1      O33599  mutagenesis site  117       N       A   \n",
       "2      O33599  mutagenesis site  210       H       A   \n",
       "3      O33599  mutagenesis site  214       D       A   \n",
       "4      O33599  mutagenesis site  291       H       A   \n",
       "...       ...               ...  ...     ...     ...   \n",
       "46387  C6KT50  mutagenesis site  139       R       A   \n",
       "46388  C6KT50  mutagenesis site  140       R       A   \n",
       "46389  C6KT50  mutagenesis site  151       K       A   \n",
       "46390  Q8ILG2  mutagenesis site  246       D       A   \n",
       "46391  Q8IJP2  mutagenesis site  316       C       S   \n",
       "\n",
       "                                                    desc  no effect  length  \n",
       "0      3125-fold decrease in catalytic activity, and ...      False     293  \n",
       "1                                  Activates the enzyme.      False     316  \n",
       "2                                Inactivates the enzyme.      False     316  \n",
       "3                                Inactivates the enzyme.      False     316  \n",
       "4                                Inactivates the enzyme.      False     316  \n",
       "...                                                  ...        ...     ...  \n",
       "46387  No activity; when associated with A-136 and A-...      False     301  \n",
       "46388  No activity; when associated with A-136 and A-...      False     301  \n",
       "46389  No activity. The mutant forms hexamers instead...      False     301  \n",
       "46390                        Loss of catalytic activity.      False     627  \n",
       "46391  50% reduction in activity with Zn(2+) as cofac...      False     517  \n",
       "\n",
       "[46392 rows x 8 columns]"
      ]
     },
     "execution_count": 206,
     "metadata": {},
     "output_type": "execute_result"
    }
   ],
   "source": [
    "mut_effect_train"
   ]
  },
  {
   "cell_type": "markdown",
   "id": "22137f1b",
   "metadata": {},
   "source": [
    "The uniprot data contains the correspondences between the uniprot code of the studied proteins and their sequences. "
   ]
  },
  {
   "cell_type": "code",
   "execution_count": 207,
   "id": "9a841e51",
   "metadata": {
    "scrolled": true
   },
   "outputs": [
    {
     "data": {
      "text/html": [
       "<div>\n",
       "<style scoped>\n",
       "    .dataframe tbody tr th:only-of-type {\n",
       "        vertical-align: middle;\n",
       "    }\n",
       "\n",
       "    .dataframe tbody tr th {\n",
       "        vertical-align: top;\n",
       "    }\n",
       "\n",
       "    .dataframe thead th {\n",
       "        text-align: right;\n",
       "    }\n",
       "</style>\n",
       "<table border=\"1\" class=\"dataframe\">\n",
       "  <thead>\n",
       "    <tr style=\"text-align: right;\">\n",
       "      <th></th>\n",
       "      <th>uniprot</th>\n",
       "      <th>sequence</th>\n",
       "    </tr>\n",
       "  </thead>\n",
       "  <tbody>\n",
       "    <tr>\n",
       "      <th>0</th>\n",
       "      <td>K0F8Z5</td>\n",
       "      <td>MSSEKIQRVGIIGAGQMGAGIAEVCARAHVDVLVYEQTRELAAAGR...</td>\n",
       "    </tr>\n",
       "    <tr>\n",
       "      <th>1</th>\n",
       "      <td>K0F1Z7</td>\n",
       "      <td>MTRHVDVLIIGAGLSGIGMACHLTREQTGRSYAILERRAAIGGTWD...</td>\n",
       "    </tr>\n",
       "    <tr>\n",
       "      <th>2</th>\n",
       "      <td>K0EI02</td>\n",
       "      <td>MPKARATALITAALIVVVLVAGCTRLVDGRAVSIYDDPFKVAGLPT...</td>\n",
       "    </tr>\n",
       "    <tr>\n",
       "      <th>3</th>\n",
       "      <td>K0EPK0</td>\n",
       "      <td>MYSPIEDWDTDEVWMFLMQYANPWGVSNKDLLTMYQGASADSECPL...</td>\n",
       "    </tr>\n",
       "    <tr>\n",
       "      <th>4</th>\n",
       "      <td>K0EQ80</td>\n",
       "      <td>MTEASADAAGARRRRNRDIAGRHVLITGASSGIGRAAAIAVAGKGA...</td>\n",
       "    </tr>\n",
       "    <tr>\n",
       "      <th>...</th>\n",
       "      <td>...</td>\n",
       "      <td>...</td>\n",
       "    </tr>\n",
       "    <tr>\n",
       "      <th>561557</th>\n",
       "      <td>A0A1C1CCI4</td>\n",
       "      <td>MGSIPSDQAVAPPPSTTTYNIASIPADGIGPEVITAGINVLNTLSR...</td>\n",
       "    </tr>\n",
       "    <tr>\n",
       "      <th>561558</th>\n",
       "      <td>A0A1C1D2I0</td>\n",
       "      <td>MEMQLRLYVLADRLQAVMLSGIILCEPPIGLPAGSSMKDATRETSP...</td>\n",
       "    </tr>\n",
       "    <tr>\n",
       "      <th>561559</th>\n",
       "      <td>A0A1C1CI70</td>\n",
       "      <td>MQYIQTFASCAALIRDPLGHIFAGLPRASAFSAAISSNVALHPPLP...</td>\n",
       "    </tr>\n",
       "    <tr>\n",
       "      <th>561560</th>\n",
       "      <td>A0A1C1CC49</td>\n",
       "      <td>MAAGEVPAPAKKRRIGVLTSGGDSPGMNGAVRAVVRMSIHMGCESY...</td>\n",
       "    </tr>\n",
       "    <tr>\n",
       "      <th>561561</th>\n",
       "      <td>A0A1C1CCP4</td>\n",
       "      <td>MSPLAKLYLISCWSYIISFHLTLSILTLDMSASFPGDHFARAAKVQ...</td>\n",
       "    </tr>\n",
       "  </tbody>\n",
       "</table>\n",
       "<p>561562 rows × 2 columns</p>\n",
       "</div>"
      ],
      "text/plain": [
       "           uniprot                                           sequence\n",
       "0           K0F8Z5  MSSEKIQRVGIIGAGQMGAGIAEVCARAHVDVLVYEQTRELAAAGR...\n",
       "1           K0F1Z7  MTRHVDVLIIGAGLSGIGMACHLTREQTGRSYAILERRAAIGGTWD...\n",
       "2           K0EI02  MPKARATALITAALIVVVLVAGCTRLVDGRAVSIYDDPFKVAGLPT...\n",
       "3           K0EPK0  MYSPIEDWDTDEVWMFLMQYANPWGVSNKDLLTMYQGASADSECPL...\n",
       "4           K0EQ80  MTEASADAAGARRRRNRDIAGRHVLITGASSGIGRAAAIAVAGKGA...\n",
       "...            ...                                                ...\n",
       "561557  A0A1C1CCI4  MGSIPSDQAVAPPPSTTTYNIASIPADGIGPEVITAGINVLNTLSR...\n",
       "561558  A0A1C1D2I0  MEMQLRLYVLADRLQAVMLSGIILCEPPIGLPAGSSMKDATRETSP...\n",
       "561559  A0A1C1CI70  MQYIQTFASCAALIRDPLGHIFAGLPRASAFSAAISSNVALHPPLP...\n",
       "561560  A0A1C1CC49  MAAGEVPAPAKKRRIGVLTSGGDSPGMNGAVRAVVRMSIHMGCESY...\n",
       "561561  A0A1C1CCP4  MSPLAKLYLISCWSYIISFHLTLSILTLDMSASFPGDHFARAAKVQ...\n",
       "\n",
       "[561562 rows x 2 columns]"
      ]
     },
     "execution_count": 207,
     "metadata": {},
     "output_type": "execute_result"
    }
   ],
   "source": [
    "uniprot_seq"
   ]
  },
  {
   "attachments": {},
   "cell_type": "markdown",
   "id": "13c4a228",
   "metadata": {},
   "source": [
    "## 1.2 |</span></b>  New dataset</div>"
   ]
  },
  {
   "cell_type": "markdown",
   "id": "93c3e51f",
   "metadata": {},
   "source": [
    "In order to exploit the data show above, we first extracted the sequences corresponding to the uniprot codes from the dataset \"uniprot_seq\". Then, thanks to the differents features provided in the original dataset we were able to reconstruct the sequence after mutation. \n",
    "Moreover, for each protein we have kept in the last column: the original amino acid, the amino acid that replaced it and finally the position of the mutation in the sequence. This column allowed us to further analyze the performance of our models to see if there was a correlation between a good prediction and the mutated amino acid. \n",
    "Finally, the y column corresponds to the label of our model. A 1 means that the mutation had no effect and a 0 the opposite. \n"
   ]
  },
  {
   "attachments": {},
   "cell_type": "markdown",
   "id": "94068d8d",
   "metadata": {},
   "source": [
    "## Load the data  </div>"
   ]
  },
  {
   "cell_type": "markdown",
   "id": "7fb8d879",
   "metadata": {},
   "source": [
    "In order to evaluate the performance of our model, we extracted two datasets: the first one containing 1000 data of proteins with sequence lengths lower than 215 (it was then divided into data_train_215 with 800 data and data_val_215). And a second dataset with 5585 datasets (divided into 4500 for data_train_600 and the rest in data_val_600) and whose data contains proteins with sequence lengths less than 600. "
   ]
  },
  {
   "cell_type": "code",
   "execution_count": 208,
   "id": "af33ae2d",
   "metadata": {},
   "outputs": [],
   "source": [
    "NEW = \"data/\"\n",
    "\n",
    "TRAIN_600 = NEW + \"train_set_600.csv\"\n",
    "TRAIN_215 = NEW + \"train_set_215.csv\"\n",
    "VAL_600 = NEW + \"val_set_600.csv\"\n",
    "VAL_215 = NEW + \"val_set_215.csv\""
   ]
  },
  {
   "cell_type": "code",
   "execution_count": 209,
   "id": "ac1eacfb",
   "metadata": {},
   "outputs": [],
   "source": [
    "data_train_600 = pd.read_csv(TRAIN_600)\n",
    "data_val_600 = pd.read_csv(VAL_600)\n",
    "data_train_215 = pd.read_csv(TRAIN_215)\n",
    "data_val_215 = pd.read_csv(VAL_215)"
   ]
  },
  {
   "cell_type": "code",
   "execution_count": 210,
   "id": "d31f6d22",
   "metadata": {
    "scrolled": true
   },
   "outputs": [
    {
     "data": {
      "text/html": [
       "<div>\n",
       "<style scoped>\n",
       "    .dataframe tbody tr th:only-of-type {\n",
       "        vertical-align: middle;\n",
       "    }\n",
       "\n",
       "    .dataframe tbody tr th {\n",
       "        vertical-align: top;\n",
       "    }\n",
       "\n",
       "    .dataframe thead th {\n",
       "        text-align: right;\n",
       "    }\n",
       "</style>\n",
       "<table border=\"1\" class=\"dataframe\">\n",
       "  <thead>\n",
       "    <tr style=\"text-align: right;\">\n",
       "      <th></th>\n",
       "      <th>sequence</th>\n",
       "      <th>sequence_mutated</th>\n",
       "      <th>sequence_mask</th>\n",
       "      <th>Y</th>\n",
       "      <th>amino_info</th>\n",
       "    </tr>\n",
       "  </thead>\n",
       "  <tbody>\n",
       "    <tr>\n",
       "      <th>0</th>\n",
       "      <td>MEAPLVSLDEEFEDLRPSCSEDPEEKPQCFYGSSPHHLEDPSLSEL...</td>\n",
       "      <td>MEAPLVSLDEEFEDLRPSCSEDPEEKPQCFYGSSPHHLEDPSLSEL...</td>\n",
       "      <td>MEAPLVSLDEEFEDLRPSCSEDPEEKPQCFYGSSPHHLEDPSLSEL...</td>\n",
       "      <td>1</td>\n",
       "      <td>('K', 'A', 264)</td>\n",
       "    </tr>\n",
       "    <tr>\n",
       "      <th>1</th>\n",
       "      <td>MGRTFIHASKIKHAARKRKHHSNFRTLIKLLNNDAYKIESSKPLKN...</td>\n",
       "      <td>MGRTFIHASKIKHAARKRKHHSNFRTLIKLLNNDAYKIESSKPLKN...</td>\n",
       "      <td>MGRTFIHASKIKHAARKRKHHSNFRTLIKLLNNDAYKIESSKPLKN...</td>\n",
       "      <td>1</td>\n",
       "      <td>('W', 'A', 75)</td>\n",
       "    </tr>\n",
       "    <tr>\n",
       "      <th>2</th>\n",
       "      <td>MNKTAIALLALLASSASLAATPWQKITQPVPGSAQSIGSFSNGCIV...</td>\n",
       "      <td>MNKTAIALLALLASSASLAATPWQKITQPVPGSAQSIGSFSNGCIV...</td>\n",
       "      <td>MNKTAIALLALLASSASLAATPWQKITQPVPGSAQSIGSFSNGCIV...</td>\n",
       "      <td>0</td>\n",
       "      <td>('H', 'A', 113)</td>\n",
       "    </tr>\n",
       "    <tr>\n",
       "      <th>3</th>\n",
       "      <td>MASSTTRGPRVSDLFSGLPPAVTTPANQSAEASAGNGSVAGADAPA...</td>\n",
       "      <td>MASSTTRGPRVSDLFSGLPPAVTTPANQSAEASAGNGSVAGADAPA...</td>\n",
       "      <td>MASSTTRGPRVSDLFSGLPPAVTTPANQSAEASAGNGSVAGADAPA...</td>\n",
       "      <td>1</td>\n",
       "      <td>('T', 'A', 365)</td>\n",
       "    </tr>\n",
       "    <tr>\n",
       "      <th>4</th>\n",
       "      <td>MRHGDISSSNDTVGVAVVNYKMPRLHTAAEVLDNARKIAEMIVGMK...</td>\n",
       "      <td>MRHGDISSSNDTVGVAVVNYKMPRLHTAAEVLDNARKIAEMIVGMK...</td>\n",
       "      <td>MRHGDISSSNDTVGVAVVNYKMPRLHTAAEVLDNARKIAEMIVGMK...</td>\n",
       "      <td>0</td>\n",
       "      <td>('E', 'Q', 59)</td>\n",
       "    </tr>\n",
       "    <tr>\n",
       "      <th>...</th>\n",
       "      <td>...</td>\n",
       "      <td>...</td>\n",
       "      <td>...</td>\n",
       "      <td>...</td>\n",
       "      <td>...</td>\n",
       "    </tr>\n",
       "    <tr>\n",
       "      <th>4495</th>\n",
       "      <td>MVNPTTSEVQPTMGVKIFSAGVSACLADIITFPLDTAKVRLQIQGE...</td>\n",
       "      <td>MVNPTTSEVQPTMGVKIFSAGVSAALADIITFPLDTAKVRLQIQGE...</td>\n",
       "      <td>MVNPTTSEVQPTMGVKIFSAGVSA?LADIITFPLDTAKVRLQIQGE...</td>\n",
       "      <td>1</td>\n",
       "      <td>('C', 'A', 25)</td>\n",
       "    </tr>\n",
       "    <tr>\n",
       "      <th>4496</th>\n",
       "      <td>MSTRTPSSSSSRLMLTIGLCFLVALMEGLDLQAAGIAAGGIAQAFA...</td>\n",
       "      <td>MSTRTPSSSSSRLMLTIGLCFLVALMEGLDLQAAGIAAGGIAQAFA...</td>\n",
       "      <td>MSTRTPSSSSSRLMLTIGLCFLVALMEGLDLQAAGIAAGGIAQAFA...</td>\n",
       "      <td>0</td>\n",
       "      <td>('D', 'A', 75)</td>\n",
       "    </tr>\n",
       "    <tr>\n",
       "      <th>4497</th>\n",
       "      <td>MANYFNTLNLRQQLAQLGKCRFMGRDEFADGASYLQGKKVVIVGCG...</td>\n",
       "      <td>MANYFNTLNLRQQLAQLGKCRFMGRDEFADGASYLQGKKVVIVGCG...</td>\n",
       "      <td>MANYFNTLNLRQQLAQLGKCRFMGRDEFADGASYLQGKKVVIVGCG...</td>\n",
       "      <td>0</td>\n",
       "      <td>('A', 'S', 71)</td>\n",
       "    </tr>\n",
       "    <tr>\n",
       "      <th>4498</th>\n",
       "      <td>MAQIFNPNPGNTLDTVANALKEQANAANKDVNDAIKALQGTDNADN...</td>\n",
       "      <td>MAQIFNPNPGNTLDTVANALKEQANAANKDVNDAIKALQGTDNADN...</td>\n",
       "      <td>MAQIFNPNPGNTLDTVANALKEQANAANKDVNDAIKALQGTDNADN...</td>\n",
       "      <td>0</td>\n",
       "      <td>('D', 'V', 76)</td>\n",
       "    </tr>\n",
       "    <tr>\n",
       "      <th>4499</th>\n",
       "      <td>MMSEQDLADVVQIAVEDLSPDHPVVLENHVVTDDDEPALKRQRLEI...</td>\n",
       "      <td>MMSEQDLADVVQIAVEDLSPDHPVVLENHVVTDDDEPALKRQRLEI...</td>\n",
       "      <td>MMSEQDLADVVQIAVEDLSPDHPVVLENHVVTDDDEPALKRQRLEI...</td>\n",
       "      <td>1</td>\n",
       "      <td>('S', 'A', 349)</td>\n",
       "    </tr>\n",
       "  </tbody>\n",
       "</table>\n",
       "<p>4500 rows × 5 columns</p>\n",
       "</div>"
      ],
      "text/plain": [
       "                                               sequence  \\\n",
       "0     MEAPLVSLDEEFEDLRPSCSEDPEEKPQCFYGSSPHHLEDPSLSEL...   \n",
       "1     MGRTFIHASKIKHAARKRKHHSNFRTLIKLLNNDAYKIESSKPLKN...   \n",
       "2     MNKTAIALLALLASSASLAATPWQKITQPVPGSAQSIGSFSNGCIV...   \n",
       "3     MASSTTRGPRVSDLFSGLPPAVTTPANQSAEASAGNGSVAGADAPA...   \n",
       "4     MRHGDISSSNDTVGVAVVNYKMPRLHTAAEVLDNARKIAEMIVGMK...   \n",
       "...                                                 ...   \n",
       "4495  MVNPTTSEVQPTMGVKIFSAGVSACLADIITFPLDTAKVRLQIQGE...   \n",
       "4496  MSTRTPSSSSSRLMLTIGLCFLVALMEGLDLQAAGIAAGGIAQAFA...   \n",
       "4497  MANYFNTLNLRQQLAQLGKCRFMGRDEFADGASYLQGKKVVIVGCG...   \n",
       "4498  MAQIFNPNPGNTLDTVANALKEQANAANKDVNDAIKALQGTDNADN...   \n",
       "4499  MMSEQDLADVVQIAVEDLSPDHPVVLENHVVTDDDEPALKRQRLEI...   \n",
       "\n",
       "                                       sequence_mutated  \\\n",
       "0     MEAPLVSLDEEFEDLRPSCSEDPEEKPQCFYGSSPHHLEDPSLSEL...   \n",
       "1     MGRTFIHASKIKHAARKRKHHSNFRTLIKLLNNDAYKIESSKPLKN...   \n",
       "2     MNKTAIALLALLASSASLAATPWQKITQPVPGSAQSIGSFSNGCIV...   \n",
       "3     MASSTTRGPRVSDLFSGLPPAVTTPANQSAEASAGNGSVAGADAPA...   \n",
       "4     MRHGDISSSNDTVGVAVVNYKMPRLHTAAEVLDNARKIAEMIVGMK...   \n",
       "...                                                 ...   \n",
       "4495  MVNPTTSEVQPTMGVKIFSAGVSAALADIITFPLDTAKVRLQIQGE...   \n",
       "4496  MSTRTPSSSSSRLMLTIGLCFLVALMEGLDLQAAGIAAGGIAQAFA...   \n",
       "4497  MANYFNTLNLRQQLAQLGKCRFMGRDEFADGASYLQGKKVVIVGCG...   \n",
       "4498  MAQIFNPNPGNTLDTVANALKEQANAANKDVNDAIKALQGTDNADN...   \n",
       "4499  MMSEQDLADVVQIAVEDLSPDHPVVLENHVVTDDDEPALKRQRLEI...   \n",
       "\n",
       "                                          sequence_mask  Y       amino_info  \n",
       "0     MEAPLVSLDEEFEDLRPSCSEDPEEKPQCFYGSSPHHLEDPSLSEL...  1  ('K', 'A', 264)  \n",
       "1     MGRTFIHASKIKHAARKRKHHSNFRTLIKLLNNDAYKIESSKPLKN...  1   ('W', 'A', 75)  \n",
       "2     MNKTAIALLALLASSASLAATPWQKITQPVPGSAQSIGSFSNGCIV...  0  ('H', 'A', 113)  \n",
       "3     MASSTTRGPRVSDLFSGLPPAVTTPANQSAEASAGNGSVAGADAPA...  1  ('T', 'A', 365)  \n",
       "4     MRHGDISSSNDTVGVAVVNYKMPRLHTAAEVLDNARKIAEMIVGMK...  0   ('E', 'Q', 59)  \n",
       "...                                                 ... ..              ...  \n",
       "4495  MVNPTTSEVQPTMGVKIFSAGVSA?LADIITFPLDTAKVRLQIQGE...  1   ('C', 'A', 25)  \n",
       "4496  MSTRTPSSSSSRLMLTIGLCFLVALMEGLDLQAAGIAAGGIAQAFA...  0   ('D', 'A', 75)  \n",
       "4497  MANYFNTLNLRQQLAQLGKCRFMGRDEFADGASYLQGKKVVIVGCG...  0   ('A', 'S', 71)  \n",
       "4498  MAQIFNPNPGNTLDTVANALKEQANAANKDVNDAIKALQGTDNADN...  0   ('D', 'V', 76)  \n",
       "4499  MMSEQDLADVVQIAVEDLSPDHPVVLENHVVTDDDEPALKRQRLEI...  1  ('S', 'A', 349)  \n",
       "\n",
       "[4500 rows x 5 columns]"
      ]
     },
     "execution_count": 210,
     "metadata": {},
     "output_type": "execute_result"
    }
   ],
   "source": [
    "data_train_600"
   ]
  },
  {
   "attachments": {},
   "cell_type": "markdown",
   "id": "6197bebd",
   "metadata": {},
   "source": [
    "## Load the data cuts around the mutation </div>"
   ]
  },
  {
   "cell_type": "markdown",
   "id": "bc2768e1",
   "metadata": {},
   "source": [
    "Another performance has been evaluated: the performance of our models on sequences of limited size around the mutation position. \n",
    "Thus we created 4 different datasets such that the cutoff around the mutation was 5 amino acids on each side, then 10, then 20 and finally 50. "
   ]
  },
  {
   "cell_type": "code",
   "execution_count": 211,
   "id": "a3f3e322",
   "metadata": {},
   "outputs": [],
   "source": [
    "CUT = \"cut/\"\n",
    "VAL_CUT_5 = NEW + CUT + \"val_set_215_cut_5.csv\"\n",
    "VAL_CUT_10 = NEW + CUT + \"val_set_215_cut_10.csv\"\n",
    "VAL_CUT_20 = NEW + CUT + \"val_set_215_cut_20.csv\"\n",
    "VAL_CUT_50 = NEW + CUT + \"val_set_215_cut_50.csv\""
   ]
  },
  {
   "cell_type": "code",
   "execution_count": 212,
   "id": "5a2f04ee",
   "metadata": {},
   "outputs": [],
   "source": [
    "data_val_cut_5 = pd.read_csv(VAL_CUT_5)\n",
    "data_val_cut_10 = pd.read_csv(VAL_CUT_10)\n",
    "data_val_cut_20 = pd.read_csv(VAL_CUT_20)\n",
    "data_val_cut_50 = pd.read_csv(VAL_CUT_50)"
   ]
  },
  {
   "attachments": {},
   "cell_type": "markdown",
   "id": "5b5adcbb",
   "metadata": {},
   "source": [
    "#  <style> \n",
    "    .ma-classe {\n",
    "    font-size: 40px;\n",
    "}\n",
    "</style>\n",
    "<div class=\"alert alert-danger\">2 |</span></b> Residual NN  </div>\n",
    "\n",
    "## 2.1 |</span></b> Preprocessing </div>"
   ]
  },
  {
   "attachments": {},
   "cell_type": "markdown",
   "id": "486f7830",
   "metadata": {},
   "source": [
    "## 2.1.1 |</span></b> Integer encoding </div>"
   ]
  },
  {
   "cell_type": "markdown",
   "id": "4f83b301",
   "metadata": {},
   "source": [
    "There are 20 different amino acids that can compose our sequences. For each amino acid, an integer has been associated. The sequence of amino acids has been transformed into a sequence of integers.\n",
    "First we create a dictionary that assigns to each amino acid an integer."
   ]
  },
  {
   "cell_type": "code",
   "execution_count": 213,
   "id": "52813eb3",
   "metadata": {},
   "outputs": [
    {
     "name": "stdout",
     "output_type": "stream",
     "text": [
      "{'A': 1, 'C': 2, 'D': 3, 'E': 4, 'F': 5, 'G': 6, 'H': 7, 'I': 8, 'K': 9, 'L': 10, 'M': 11, 'N': 12, 'P': 13, 'Q': 14, 'R': 15, 'S': 16, 'T': 17, 'V': 18, 'W': 19, 'Y': 20}\n",
      "Dict Length: 20\n"
     ]
    }
   ],
   "source": [
    "codes = ['A', 'C', 'D', 'E', 'F', 'G', 'H', 'I', 'K', 'L',\n",
    "         'M', 'N', 'P', 'Q', 'R', 'S', 'T', 'V', 'W', 'Y']\n",
    "\n",
    "def create_dict(codes):\n",
    "    char_dict = {}\n",
    "    for index, val in enumerate(codes):\n",
    "        char_dict[val] = index+1\n",
    "\n",
    "    return char_dict\n",
    "\n",
    "char_dict = create_dict(codes)\n",
    "\n",
    "print(char_dict)\n",
    "print(\"Dict Length:\", len(char_dict))"
   ]
  },
  {
   "cell_type": "markdown",
   "id": "ce60bdfd",
   "metadata": {},
   "source": [
    "This function converts each amino acid sequence into a series of integers as defined above. "
   ]
  },
  {
   "cell_type": "code",
   "execution_count": 214,
   "id": "aa87b13e",
   "metadata": {},
   "outputs": [],
   "source": [
    "def integer_encoding(seq):\n",
    "    \"\"\"\n",
    "    - Encodes code sequence to integer values.\n",
    "    - 20 common amino acids are taken into consideration\n",
    ".\n",
    "    \"\"\"\n",
    "    seq_encode = []\n",
    "    for code in seq:\n",
    "        seq_encode.append(char_dict.get(code, 0))\n",
    "\n",
    "    return seq_encode"
   ]
  },
  {
   "attachments": {},
   "cell_type": "markdown",
   "id": "555e6f15",
   "metadata": {},
   "source": [
    "## 2.1.2 |</span></b> Padding the sequence </div>"
   ]
  },
  {
   "cell_type": "markdown",
   "id": "5da36ad1",
   "metadata": {},
   "source": [
    "This function takes a sequence and the maximum length value (in our case the value is either 215 or 600). If the length of the sequence is less than the maximum length then it adds zeros on both sides of the sequence so that the length of the sequences is homogeneous in our dataset. "
   ]
  },
  {
   "cell_type": "code",
   "execution_count": 215,
   "id": "24605ec6",
   "metadata": {},
   "outputs": [],
   "source": [
    "def pad_seq(seq, max_len):\n",
    "    \n",
    "    if len(seq) < max_len:\n",
    "        num_add = max_len - len(seq)\n",
    "        each_side = int(num_add/2)\n",
    "        if ( each_side * 2 != num_add): \n",
    "            left = each_side\n",
    "            right = each_side + 1 \n",
    "        else : \n",
    "            left = each_side\n",
    "            right = each_side\n",
    "        out = np.pad(seq, (left, right))\n",
    "    else:\n",
    "        out = seq\n",
    "    return out"
   ]
  },
  {
   "attachments": {},
   "cell_type": "markdown",
   "id": "5b5cbed4",
   "metadata": {},
   "source": [
    "## 2.1.3 |</span></b> One hot encoding </div>"
   ]
  },
  {
   "cell_type": "markdown",
   "id": "109e7452",
   "metadata": {},
   "source": [
    "Finally we transform the sequence into its corresponding one hot encode."
   ]
  },
  {
   "cell_type": "code",
   "execution_count": 216,
   "id": "dbd0ee1d",
   "metadata": {},
   "outputs": [],
   "source": [
    "def seq_to_one_hot(seq, num_values):\n",
    "    one_hot_encode = []\n",
    "    for s in seq:\n",
    "\n",
    "        arr = np.zeros(num_values, dtype = int)\n",
    "        if (s == 0): \n",
    "            arr[s] = 0\n",
    "        else : \n",
    "            arr[s] = 1\n",
    "        one_hot_encode.append(arr)\n",
    "        \n",
    "    return np.array(one_hot_encode)"
   ]
  },
  {
   "attachments": {},
   "cell_type": "markdown",
   "id": "187e53bc",
   "metadata": {},
   "source": [
    "##  Function encode </div>\n"
   ]
  },
  {
   "cell_type": "markdown",
   "id": "7b240553",
   "metadata": {},
   "source": [
    "This function gathers the three functions evoked previously.\n",
    "We can directly provide it with an input amino acid sequence and the maximum length set in our dataset and it returns the corresponding one hot encode."
   ]
  },
  {
   "cell_type": "code",
   "execution_count": 217,
   "id": "60b29476",
   "metadata": {},
   "outputs": [],
   "source": [
    "def pad_seq(seq, max_len):\n",
    "    if len(seq) < max_len:\n",
    "        num_add = max_len - len(seq)\n",
    "        each_side = int(num_add/2)\n",
    "        if ( each_side * 2 != num_add): \n",
    "            left = each_side\n",
    "            right = each_side + 1 \n",
    "        else : \n",
    "            left = each_side\n",
    "            right = each_side\n",
    "        out = np.pad(seq, (left, right))\n",
    "    else:\n",
    "        out = seq\n",
    "    return out"
   ]
  },
  {
   "cell_type": "code",
   "execution_count": 218,
   "id": "f451d41a",
   "metadata": {},
   "outputs": [],
   "source": [
    "def encode(seq, max_len): \n",
    "    num_values = 21 \n",
    "    temp = integer_encoding(seq)\n",
    "\n",
    "    temp = pad_seq(temp,max_len)\n",
    "\n",
    "    one_hot_seq = seq_to_one_hot(temp, num_values)\n",
    "\n",
    "    return one_hot_seq"
   ]
  },
  {
   "attachments": {},
   "cell_type": "markdown",
   "id": "62c33581",
   "metadata": {},
   "source": [
    "#  <style> \n",
    "    .ma-classe {\n",
    "    font-size: 30px;\n",
    "}\n",
    "</style>\n",
    "<div class=\"alert alert-success\">2.2 |</span></b> Custom Dataset and Data Loader  </div>\n",
    "\n",
    "## 2.2.1 |</span></b> Custom Dataset </div>\n"
   ]
  },
  {
   "cell_type": "markdown",
   "id": "f98bd204",
   "metadata": {},
   "source": [
    "Creation of a ProteinDataset class. It allows to transform the mutated and non-mutated sequences of our inputs into one hot encoding for all our datasets. Moreover, the two sequences once transformed are concatenated : they form the input of our model. Our data are also transformed into tensors. "
   ]
  },
  {
   "cell_type": "code",
   "execution_count": 219,
   "id": "ab1fe44e",
   "metadata": {},
   "outputs": [],
   "source": [
    "transfrom_data= transforms.Compose([transforms.ToTensor()])"
   ]
  },
  {
   "cell_type": "code",
   "execution_count": 220,
   "id": "1127e76f",
   "metadata": {},
   "outputs": [],
   "source": [
    "class ProteinDataset(Dataset):\n",
    "    def __init__(self, df, root_dir, max_seq, transform=None):\n",
    "        self.df = df\n",
    "        self.transform = transform\n",
    "        self.root_dir = root_dir\n",
    "        self.max_seq = max_seq\n",
    "        \n",
    "    def __len__(self):\n",
    "        return len(self.df)    \n",
    "    \n",
    "    def __getitem__(self, idx):\n",
    "        row = self.df.loc[idx]\n",
    "        seq_, seq_mut, label = row['sequence'], row['sequence_mutated'], row['Y']\n",
    "        seq, seq_mut = encode(seq_, self.max_seq), encode(seq_mut, self.max_seq)\n",
    "        if self.transform:\n",
    "            seq = self.transform(seq)\n",
    "            seq_mut = self.transform(seq_mut)\n",
    "        inputs = torch.cat((seq, seq_mut), axis = 0)  \n",
    "        inputs = inputs.float()\n",
    "\n",
    "        return inputs, label"
   ]
  },
  {
   "cell_type": "code",
   "execution_count": 221,
   "id": "4f32690e",
   "metadata": {},
   "outputs": [],
   "source": [
    "SEQUENCE_600 = 600\n",
    "SEQUENCE_215 = 215"
   ]
  },
  {
   "cell_type": "code",
   "execution_count": 222,
   "id": "4e1876e7",
   "metadata": {},
   "outputs": [],
   "source": [
    "data_train_600_ds = ProteinDataset(data_train_600, TRAIN_600, SEQUENCE_600, transform=transfrom_data)\n",
    "data_val_600_ds = ProteinDataset(data_val_600, VAL_600, SEQUENCE_600, transform=transfrom_data)\n",
    "\n",
    "data_train_215_ds = ProteinDataset(data_train_215, TRAIN_215, SEQUENCE_215, transform=transfrom_data)\n",
    "data_val_215_ds = ProteinDataset(data_val_215, VAL_215, SEQUENCE_215, transform=transfrom_data)"
   ]
  },
  {
   "attachments": {},
   "cell_type": "markdown",
   "id": "c0a45ac7",
   "metadata": {},
   "source": [
    "## 2.2.2 |</span></b> Data Loader</div>\n",
    "\n"
   ]
  },
  {
   "cell_type": "markdown",
   "id": "9b5ae2a0",
   "metadata": {},
   "source": [
    "Then we use the Dataloader functionality of pytorch.\n",
    "That allows you to efficiently load and preprocess a dataset for training or evaluation. It takes a dataset and a batch size as input and returns an iterator over the dataset that returns a batch of data on each iteration."
   ]
  },
  {
   "cell_type": "code",
   "execution_count": 223,
   "id": "fa198449",
   "metadata": {},
   "outputs": [],
   "source": [
    "batch_size = 4 "
   ]
  },
  {
   "cell_type": "code",
   "execution_count": 224,
   "id": "f7751f27",
   "metadata": {},
   "outputs": [],
   "source": [
    "data_train_600_dl = DataLoader(data_train_600_ds, batch_size)\n",
    "data_val_600_dl = DataLoader(data_val_600_ds, batch_size = 1)\n",
    "\n",
    "data_train_215_dl = DataLoader(data_train_215_ds, batch_size  = 1)\n",
    "data_val_215_dl = DataLoader(data_val_215_ds, batch_size = 1)"
   ]
  },
  {
   "cell_type": "code",
   "execution_count": 225,
   "id": "63c7a229",
   "metadata": {},
   "outputs": [
    {
     "data": {
      "text/plain": [
       "torch.Size([4, 2, 600, 21])"
      ]
     },
     "execution_count": 225,
     "metadata": {},
     "output_type": "execute_result"
    }
   ],
   "source": [
    "inputs, labels = next(iter(data_train_600_dl))\n",
    "inputs.shape"
   ]
  },
  {
   "attachments": {},
   "cell_type": "markdown",
   "id": "38823fa5",
   "metadata": {},
   "source": [
    "# 2.3 |</span></b> Define the model  </div>\n"
   ]
  },
  {
   "cell_type": "code",
   "execution_count": 226,
   "id": "be0ed581",
   "metadata": {},
   "outputs": [],
   "source": [
    "class ResidualBlock(nn.Module):\n",
    "    def __init__(self,in_channels, out_channels, d_rate):\n",
    "        super().__init__()\n",
    "        self.conv1 = nn.Sequential(\n",
    "                        nn.Conv2d(in_channels, out_channels, kernel_size = 1, dilation = d_rate, padding = 'same'), \n",
    "                        nn.BatchNorm2d(in_channels), \n",
    "                        nn.ReLU())\n",
    "        self.relu = nn.ReLU()\n",
    "        self.batch_norm = nn.BatchNorm2d(in_channels)\n",
    "    def forward(self, x):\n",
    "        residual = x \n",
    "        x = self.relu(self.batch_norm(x))\n",
    "        out = self.conv1(x)\n",
    "        out = out + residual\n",
    "        out = self.relu(out)\n",
    "        return out"
   ]
  },
  {
   "cell_type": "markdown",
   "id": "54405e91",
   "metadata": {},
   "source": [
    "Since we use different size inputs depending on the data set (data_train_215_dl or data_train_600_dl), then the first linear transformation of the model (fc1) does not take the same value in input. Two models are implemented, the first one for data_train_600_dl  and the second one for data_train_215_dl with the only difference being this value."
   ]
  },
  {
   "cell_type": "code",
   "execution_count": 227,
   "id": "996d8eac",
   "metadata": {},
   "outputs": [],
   "source": [
    "class ResidualNN_600(nn.Module): \n",
    "    def __init__(self):\n",
    "        super(ResidualNN_600, self).__init__()  \n",
    "        \n",
    "        self.conv1 = nn.Conv2d(in_channels = 2, out_channels = 16, kernel_size = 1)\n",
    "        self.res1 = ResidualBlock(in_channels = 16, out_channels = 16, d_rate = 2 )\n",
    "        self.res2 = ResidualBlock(in_channels = 16, out_channels = 16, d_rate = 4 )\n",
    "        self.pool = nn.MaxPool2d(3)\n",
    "        self.dropout = nn.Dropout(0.5)\n",
    "        \n",
    "        self.fc1 = nn.Linear(22400, 120) \n",
    "        self.fc2 = nn.Linear(120, 84)\n",
    "        self.fc3 = nn.Linear(84, 2)\n",
    "        self.soft = nn.Softmax(dim = 1)\n",
    "    def forward(self, x):\n",
    "        x = self.conv1(x)\n",
    "        x = self.res1(x)\n",
    "        x = self.res2(x)\n",
    "        x = self.dropout(self.pool(x))\n",
    "        x = torch.flatten(x,1)\n",
    "        x = F.relu(x)\n",
    "        x = self.fc1(x)\n",
    "        x = self.fc2(x)\n",
    "        x = self.fc3(x)\n",
    "        outputs = self.soft(x)\n",
    "        return outputs"
   ]
  },
  {
   "cell_type": "code",
   "execution_count": 228,
   "id": "97200921",
   "metadata": {},
   "outputs": [],
   "source": [
    "class ResidualNN_215(nn.Module): \n",
    "    def __init__(self):\n",
    "        super(ResidualNN_215, self).__init__()  \n",
    "        \n",
    "        self.conv1 = nn.Conv2d(in_channels = 2, out_channels = 16, kernel_size = 1)\n",
    "        self.res1 = ResidualBlock(in_channels = 16, out_channels = 16, d_rate = 2 )\n",
    "        self.res2 = ResidualBlock(in_channels = 16, out_channels = 16, d_rate = 4 )\n",
    "        self.pool = nn.MaxPool2d(3)\n",
    "        self.dropout = nn.Dropout(0.5)\n",
    "        \n",
    "        self.fc1 = nn.Linear(7952, 120) \n",
    "        self.fc2 = nn.Linear(120, 84)\n",
    "        self.fc3 = nn.Linear(84, 2)\n",
    "        self.soft = nn.Softmax(dim = 1)\n",
    "    def forward(self, x):\n",
    "        x = self.conv1(x)\n",
    "        x = self.res1(x)\n",
    "        x = self.res2(x)\n",
    "        x = self.dropout(self.pool(x))\n",
    "        x = torch.flatten(x,1)\n",
    "        x = F.relu(x)\n",
    "        x = self.fc1(x)\n",
    "        x = self.fc2(x)\n",
    "        x = self.fc3(x)\n",
    "        outputs = self.soft(x)\n",
    "        return outputs"
   ]
  },
  {
   "attachments": {},
   "cell_type": "markdown",
   "id": "da2fa109",
   "metadata": {},
   "source": [
    "# 2.4 |</span></b> Define the loss function, the optimizer and the hyperparameters </div>\n"
   ]
  },
  {
   "cell_type": "code",
   "execution_count": 229,
   "id": "cfaead4c",
   "metadata": {},
   "outputs": [],
   "source": [
    "num_epochs = 25"
   ]
  },
  {
   "cell_type": "code",
   "execution_count": 230,
   "id": "29d57d0d",
   "metadata": {},
   "outputs": [],
   "source": [
    "model = ResidualNN_215()"
   ]
  },
  {
   "cell_type": "code",
   "execution_count": 231,
   "id": "009042c9",
   "metadata": {},
   "outputs": [],
   "source": [
    "criterion = nn.CrossEntropyLoss()\n",
    "optimizer = optim.SGD( model.parameters(), lr = 0.0001, momentum = 0.9)\n",
    "scheduler = ReduceLROnPlateau(optimizer, mode='min', factor=0.1, patience= 5,\n",
    "                                                 threshold=0.0001, threshold_mode='rel', cooldown=0,\n",
    "                                                 min_lr=0, eps=1e-05, verbose=False)"
   ]
  },
  {
   "cell_type": "markdown",
   "id": "ab80cb30",
   "metadata": {},
   "source": [
    "#  <style> \n",
    "    .ma-classe {\n",
    "    font-size: 30px;\n",
    "}\n",
    "</style>\n",
    "<div class=\"alert alert-success\">2.5 |</span></b> Training </div>\n"
   ]
  },
  {
   "cell_type": "code",
   "execution_count": null,
   "id": "9b7b3e8d",
   "metadata": {
    "scrolled": true
   },
   "outputs": [
    {
     "name": "stderr",
     "output_type": "stream",
     "text": [
      "100it [00:28,  1.91it/s]"
     ]
    },
    {
     "name": "stdout",
     "output_type": "stream",
     "text": [
      "[1,   100] loss training: 0.788\n"
     ]
    },
    {
     "name": "stderr",
     "output_type": "stream",
     "text": [
      "200it [00:59,  3.54it/s]"
     ]
    },
    {
     "name": "stdout",
     "output_type": "stream",
     "text": [
      "[1,   200] loss training: 0.734\n"
     ]
    },
    {
     "name": "stderr",
     "output_type": "stream",
     "text": [
      "300it [01:26,  2.30it/s]"
     ]
    },
    {
     "name": "stdout",
     "output_type": "stream",
     "text": [
      "[1,   300] loss training: 0.762\n"
     ]
    },
    {
     "name": "stderr",
     "output_type": "stream",
     "text": [
      "400it [01:59,  3.66it/s]"
     ]
    },
    {
     "name": "stdout",
     "output_type": "stream",
     "text": [
      "[1,   400] loss training: 0.701\n"
     ]
    },
    {
     "name": "stderr",
     "output_type": "stream",
     "text": [
      "500it [02:32,  2.51it/s]"
     ]
    },
    {
     "name": "stdout",
     "output_type": "stream",
     "text": [
      "[1,   500] loss training: 0.738\n"
     ]
    },
    {
     "name": "stderr",
     "output_type": "stream",
     "text": [
      "601it [03:01,  5.51it/s]"
     ]
    },
    {
     "name": "stdout",
     "output_type": "stream",
     "text": [
      "[1,   600] loss training: 0.684\n"
     ]
    },
    {
     "name": "stderr",
     "output_type": "stream",
     "text": [
      "701it [03:34,  3.65it/s]"
     ]
    },
    {
     "name": "stdout",
     "output_type": "stream",
     "text": [
      "[1,   700] loss training: 0.653\n"
     ]
    },
    {
     "name": "stderr",
     "output_type": "stream",
     "text": [
      "800it [04:04,  3.27it/s]\n"
     ]
    },
    {
     "name": "stdout",
     "output_type": "stream",
     "text": [
      "[1,   800] loss training: 0.673\n",
      "[1,   800] loss_validation: 0.662\n",
      "Accuracy of the network on the 200 val images: 62 %\n",
      "Epoch 0, lr 0.0001\n"
     ]
    },
    {
     "name": "stderr",
     "output_type": "stream",
     "text": [
      "22it [00:06,  3.25it/s]\n"
     ]
    },
    {
     "ename": "KeyboardInterrupt",
     "evalue": "",
     "output_type": "error",
     "traceback": [
      "\u001b[1;31m---------------------------------------------------------------------------\u001b[0m",
      "\u001b[1;31mKeyboardInterrupt\u001b[0m                         Traceback (most recent call last)",
      "\u001b[1;32m~\\AppData\\Local\\Temp\\ipykernel_19552\\4181058895.py\u001b[0m in \u001b[0;36m<module>\u001b[1;34m\u001b[0m\n\u001b[0;32m     19\u001b[0m         \u001b[1;31m#print(labels)\u001b[0m\u001b[1;33m\u001b[0m\u001b[1;33m\u001b[0m\u001b[0m\n\u001b[0;32m     20\u001b[0m         \u001b[0mloss\u001b[0m \u001b[1;33m=\u001b[0m \u001b[0mcriterion\u001b[0m\u001b[1;33m(\u001b[0m\u001b[0moutputs\u001b[0m\u001b[1;33m,\u001b[0m \u001b[0mlabels\u001b[0m\u001b[1;33m)\u001b[0m\u001b[1;33m\u001b[0m\u001b[1;33m\u001b[0m\u001b[0m\n\u001b[1;32m---> 21\u001b[1;33m         \u001b[0mloss\u001b[0m\u001b[1;33m.\u001b[0m\u001b[0mbackward\u001b[0m\u001b[1;33m(\u001b[0m\u001b[1;33m)\u001b[0m\u001b[1;33m\u001b[0m\u001b[1;33m\u001b[0m\u001b[0m\n\u001b[0m\u001b[0;32m     22\u001b[0m         \u001b[0moptimizer\u001b[0m\u001b[1;33m.\u001b[0m\u001b[0mstep\u001b[0m\u001b[1;33m(\u001b[0m\u001b[1;33m)\u001b[0m                                                  \u001b[1;31m# Update parameters based on gradients.\u001b[0m\u001b[1;33m\u001b[0m\u001b[1;33m\u001b[0m\u001b[0m\n\u001b[0;32m     23\u001b[0m \u001b[1;33m\u001b[0m\u001b[0m\n",
      "\u001b[1;32m~\\anaconda3\\lib\\site-packages\\torch\\_tensor.py\u001b[0m in \u001b[0;36mbackward\u001b[1;34m(self, gradient, retain_graph, create_graph, inputs)\u001b[0m\n\u001b[0;32m    485\u001b[0m                 \u001b[0minputs\u001b[0m\u001b[1;33m=\u001b[0m\u001b[0minputs\u001b[0m\u001b[1;33m,\u001b[0m\u001b[1;33m\u001b[0m\u001b[1;33m\u001b[0m\u001b[0m\n\u001b[0;32m    486\u001b[0m             )\n\u001b[1;32m--> 487\u001b[1;33m         torch.autograd.backward(\n\u001b[0m\u001b[0;32m    488\u001b[0m             \u001b[0mself\u001b[0m\u001b[1;33m,\u001b[0m \u001b[0mgradient\u001b[0m\u001b[1;33m,\u001b[0m \u001b[0mretain_graph\u001b[0m\u001b[1;33m,\u001b[0m \u001b[0mcreate_graph\u001b[0m\u001b[1;33m,\u001b[0m \u001b[0minputs\u001b[0m\u001b[1;33m=\u001b[0m\u001b[0minputs\u001b[0m\u001b[1;33m\u001b[0m\u001b[1;33m\u001b[0m\u001b[0m\n\u001b[0;32m    489\u001b[0m         )\n",
      "\u001b[1;32m~\\anaconda3\\lib\\site-packages\\torch\\autograd\\__init__.py\u001b[0m in \u001b[0;36mbackward\u001b[1;34m(tensors, grad_tensors, retain_graph, create_graph, grad_variables, inputs)\u001b[0m\n\u001b[0;32m    195\u001b[0m     \u001b[1;31m# some Python versions print out the first line of a multi-line function\u001b[0m\u001b[1;33m\u001b[0m\u001b[1;33m\u001b[0m\u001b[0m\n\u001b[0;32m    196\u001b[0m     \u001b[1;31m# calls in the traceback and some print out the last line\u001b[0m\u001b[1;33m\u001b[0m\u001b[1;33m\u001b[0m\u001b[0m\n\u001b[1;32m--> 197\u001b[1;33m     Variable._execution_engine.run_backward(  # Calls into the C++ engine to run the backward pass\n\u001b[0m\u001b[0;32m    198\u001b[0m         \u001b[0mtensors\u001b[0m\u001b[1;33m,\u001b[0m \u001b[0mgrad_tensors_\u001b[0m\u001b[1;33m,\u001b[0m \u001b[0mretain_graph\u001b[0m\u001b[1;33m,\u001b[0m \u001b[0mcreate_graph\u001b[0m\u001b[1;33m,\u001b[0m \u001b[0minputs\u001b[0m\u001b[1;33m,\u001b[0m\u001b[1;33m\u001b[0m\u001b[1;33m\u001b[0m\u001b[0m\n\u001b[0;32m    199\u001b[0m         allow_unreachable=True, accumulate_grad=True)  # Calls into the C++ engine to run the backward pass\n",
      "\u001b[1;31mKeyboardInterrupt\u001b[0m: "
     ]
    }
   ],
   "source": [
    "for epoch in range(num_epochs):  # loop over the dataset multiple times\n",
    "\n",
    "    training_loss = 0.0\n",
    "    validation_loss = 0.0\n",
    "\n",
    "    for i, data in tqdm(enumerate(data_train_215_dl, 0)):\n",
    "             \n",
    "        inputs, labels = data\n",
    "        labels = labels.long()\n",
    "        model.train()\n",
    "        \n",
    "        # zero the parameter gradients\n",
    "        optimizer.zero_grad()\n",
    "\n",
    "        # forward + backward + optimize\n",
    "        outputs = model(inputs)\n",
    "        \n",
    "        loss = criterion(outputs, labels)\n",
    "        loss.backward()\n",
    "        optimizer.step()                                 \n",
    "\n",
    "        # print statistics\n",
    "            # to print the training loss each iteration\n",
    "        training_loss += loss.item()\n",
    "\n",
    "        \n",
    "        if i % 100 == 99:    # print mean of the loss every 100 mini-batches\n",
    "            print(f'[{epoch + 1}, {i + 1:5d}] loss training: {training_loss / 100:.3f}')\n",
    "            training_loss = 0.0\n",
    "            \n",
    "    # validation \n",
    "    correct = 0\n",
    "    total = 0\n",
    "    count = 0\n",
    "    \n",
    "    # since we're not training, we don't need to calculate the gradients for our outputs     \n",
    "    with torch.no_grad():\n",
    "        for data in data_val_215_dl:\n",
    "            count += 1\n",
    "            model.eval()\n",
    "            inputs, labels = data\n",
    "            # calculate outputs by running images through the network\n",
    "            outputs = model(inputs)\n",
    "\n",
    "            # the class with the highest energy is what we choose as prediction calculate accuracy\n",
    "            _, predicted = torch.max(outputs.data, 1)\n",
    "            total += labels.size(0)\n",
    "            correct += (predicted == labels).sum().item()\n",
    "            val_loss = criterion(outputs, labels)\n",
    "            validation_loss += val_loss.item() \n",
    "    \n",
    "    print(f'[{epoch + 1}, {i + 1:5d}] loss_validation: {validation_loss / count:.3f}')\n",
    "\n",
    "    last_val = validation_loss / count\n",
    "    \n",
    "    print(f'Accuracy of the network on the 200 val images: {100 * correct // total} %')   \n",
    "\n",
    "    #scheduler \n",
    "    scheduler.step(last_val)\n",
    "    print('Epoch {}, lr {}'.format(epoch, optimizer.param_groups[0]['lr']))\n",
    "\n",
    "    \n",
    "print('Finished Training')\n"
   ]
  },
  {
   "cell_type": "markdown",
   "id": "7f49effb",
   "metadata": {},
   "source": [
    "#  <style> \n",
    "    .ma-classe {\n",
    "    font-size: 30px;\n",
    "}\n",
    "</style>\n",
    "<div class=\"alert alert-success\">2.6 |</span></b> Testing</div>\n"
   ]
  },
  {
   "cell_type": "markdown",
   "id": "1b7129e3",
   "metadata": {},
   "source": [
    "A test function has been implemented. You just have to give it the dataset and it returns the accuracy of the validation test and a confusion matrix with different performance metrics allowing us to evaluate the performance of this model."
   ]
  },
  {
   "cell_type": "code",
   "execution_count": 232,
   "id": "09f5b7b7",
   "metadata": {},
   "outputs": [],
   "source": [
    "def test(data_val): \n",
    "    correct = 0\n",
    "    total = 0\n",
    "\n",
    "    actual = []\n",
    "    predicted = []\n",
    "\n",
    "    # since we're not training, we don't need to calculate the gradients for our outputs\n",
    "    with torch.no_grad():\n",
    "        for data in tqdm(data_val):\n",
    "            inputs, labels = data\n",
    "\n",
    "            actual.append(labels.numpy()[-1])\n",
    "            # calculate outputs by running images through the network\n",
    "            outputs = model(inputs)\n",
    "            # the class with the highest energy is what we choose as prediction\n",
    "            _, pred = torch.max(outputs.data, 1)\n",
    "            predicted.append(pred.numpy()[-1])\n",
    "\n",
    "            total += labels.size(0)\n",
    "            correct += (pred == labels).sum().item()\n",
    "\n",
    "    print(f'Accuracy of the network on the 10000 test images: {100 * correct // total} %')\n",
    "    confusion_matrix = metrics.confusion_matrix(actual, predicted)\n",
    "    make_confusion_matrix(confusion_matrix)"
   ]
  },
  {
   "attachments": {},
   "cell_type": "markdown",
   "id": "b21c86f4",
   "metadata": {},
   "source": [
    "## Test on dataset with length 600 </div>\n"
   ]
  },
  {
   "cell_type": "code",
   "execution_count": 233,
   "id": "f3a17638",
   "metadata": {
    "scrolled": true
   },
   "outputs": [
    {
     "ename": "FileNotFoundError",
     "evalue": "[Errno 2] No such file or directory: 'ResidualNN_600.pth'",
     "output_type": "error",
     "traceback": [
      "\u001b[1;31m---------------------------------------------------------------------------\u001b[0m",
      "\u001b[1;31mFileNotFoundError\u001b[0m                         Traceback (most recent call last)",
      "\u001b[1;32m~\\AppData\\Local\\Temp\\ipykernel_7320\\3077641536.py\u001b[0m in \u001b[0;36m<module>\u001b[1;34m\u001b[0m\n\u001b[0;32m      2\u001b[0m \u001b[1;33m\u001b[0m\u001b[0m\n\u001b[0;32m      3\u001b[0m \u001b[0mmodel\u001b[0m \u001b[1;33m=\u001b[0m \u001b[0mResidualNN_600\u001b[0m\u001b[1;33m(\u001b[0m \u001b[1;33m)\u001b[0m\u001b[1;33m\u001b[0m\u001b[1;33m\u001b[0m\u001b[0m\n\u001b[1;32m----> 4\u001b[1;33m \u001b[0mmodel\u001b[0m\u001b[1;33m.\u001b[0m\u001b[0mload_state_dict\u001b[0m\u001b[1;33m(\u001b[0m\u001b[0mtorch\u001b[0m\u001b[1;33m.\u001b[0m\u001b[0mload\u001b[0m\u001b[1;33m(\u001b[0m\u001b[0mPATH\u001b[0m\u001b[1;33m)\u001b[0m\u001b[1;33m)\u001b[0m\u001b[1;33m\u001b[0m\u001b[1;33m\u001b[0m\u001b[0m\n\u001b[0m\u001b[0;32m      5\u001b[0m \u001b[0mmodel\u001b[0m\u001b[1;33m.\u001b[0m\u001b[0meval\u001b[0m\u001b[1;33m(\u001b[0m\u001b[1;33m)\u001b[0m\u001b[1;33m\u001b[0m\u001b[1;33m\u001b[0m\u001b[0m\n",
      "\u001b[1;32mc:\\Users\\maxim\\anaconda3\\envs\\ada\\lib\\site-packages\\torch\\serialization.py\u001b[0m in \u001b[0;36mload\u001b[1;34m(f, map_location, pickle_module, weights_only, **pickle_load_args)\u001b[0m\n\u001b[0;32m    769\u001b[0m         \u001b[0mpickle_load_args\u001b[0m\u001b[1;33m[\u001b[0m\u001b[1;34m'encoding'\u001b[0m\u001b[1;33m]\u001b[0m \u001b[1;33m=\u001b[0m \u001b[1;34m'utf-8'\u001b[0m\u001b[1;33m\u001b[0m\u001b[1;33m\u001b[0m\u001b[0m\n\u001b[0;32m    770\u001b[0m \u001b[1;33m\u001b[0m\u001b[0m\n\u001b[1;32m--> 771\u001b[1;33m     \u001b[1;32mwith\u001b[0m \u001b[0m_open_file_like\u001b[0m\u001b[1;33m(\u001b[0m\u001b[0mf\u001b[0m\u001b[1;33m,\u001b[0m \u001b[1;34m'rb'\u001b[0m\u001b[1;33m)\u001b[0m \u001b[1;32mas\u001b[0m \u001b[0mopened_file\u001b[0m\u001b[1;33m:\u001b[0m\u001b[1;33m\u001b[0m\u001b[1;33m\u001b[0m\u001b[0m\n\u001b[0m\u001b[0;32m    772\u001b[0m         \u001b[1;32mif\u001b[0m \u001b[0m_is_zipfile\u001b[0m\u001b[1;33m(\u001b[0m\u001b[0mopened_file\u001b[0m\u001b[1;33m)\u001b[0m\u001b[1;33m:\u001b[0m\u001b[1;33m\u001b[0m\u001b[1;33m\u001b[0m\u001b[0m\n\u001b[0;32m    773\u001b[0m             \u001b[1;31m# The zipfile reader is going to advance the current file position.\u001b[0m\u001b[1;33m\u001b[0m\u001b[1;33m\u001b[0m\u001b[0m\n",
      "\u001b[1;32mc:\\Users\\maxim\\anaconda3\\envs\\ada\\lib\\site-packages\\torch\\serialization.py\u001b[0m in \u001b[0;36m_open_file_like\u001b[1;34m(name_or_buffer, mode)\u001b[0m\n\u001b[0;32m    268\u001b[0m \u001b[1;32mdef\u001b[0m \u001b[0m_open_file_like\u001b[0m\u001b[1;33m(\u001b[0m\u001b[0mname_or_buffer\u001b[0m\u001b[1;33m,\u001b[0m \u001b[0mmode\u001b[0m\u001b[1;33m)\u001b[0m\u001b[1;33m:\u001b[0m\u001b[1;33m\u001b[0m\u001b[1;33m\u001b[0m\u001b[0m\n\u001b[0;32m    269\u001b[0m     \u001b[1;32mif\u001b[0m \u001b[0m_is_path\u001b[0m\u001b[1;33m(\u001b[0m\u001b[0mname_or_buffer\u001b[0m\u001b[1;33m)\u001b[0m\u001b[1;33m:\u001b[0m\u001b[1;33m\u001b[0m\u001b[1;33m\u001b[0m\u001b[0m\n\u001b[1;32m--> 270\u001b[1;33m         \u001b[1;32mreturn\u001b[0m \u001b[0m_open_file\u001b[0m\u001b[1;33m(\u001b[0m\u001b[0mname_or_buffer\u001b[0m\u001b[1;33m,\u001b[0m \u001b[0mmode\u001b[0m\u001b[1;33m)\u001b[0m\u001b[1;33m\u001b[0m\u001b[1;33m\u001b[0m\u001b[0m\n\u001b[0m\u001b[0;32m    271\u001b[0m     \u001b[1;32melse\u001b[0m\u001b[1;33m:\u001b[0m\u001b[1;33m\u001b[0m\u001b[1;33m\u001b[0m\u001b[0m\n\u001b[0;32m    272\u001b[0m         \u001b[1;32mif\u001b[0m \u001b[1;34m'w'\u001b[0m \u001b[1;32min\u001b[0m \u001b[0mmode\u001b[0m\u001b[1;33m:\u001b[0m\u001b[1;33m\u001b[0m\u001b[1;33m\u001b[0m\u001b[0m\n",
      "\u001b[1;32mc:\\Users\\maxim\\anaconda3\\envs\\ada\\lib\\site-packages\\torch\\serialization.py\u001b[0m in \u001b[0;36m__init__\u001b[1;34m(self, name, mode)\u001b[0m\n\u001b[0;32m    249\u001b[0m \u001b[1;32mclass\u001b[0m \u001b[0m_open_file\u001b[0m\u001b[1;33m(\u001b[0m\u001b[0m_opener\u001b[0m\u001b[1;33m)\u001b[0m\u001b[1;33m:\u001b[0m\u001b[1;33m\u001b[0m\u001b[1;33m\u001b[0m\u001b[0m\n\u001b[0;32m    250\u001b[0m     \u001b[1;32mdef\u001b[0m \u001b[0m__init__\u001b[0m\u001b[1;33m(\u001b[0m\u001b[0mself\u001b[0m\u001b[1;33m,\u001b[0m \u001b[0mname\u001b[0m\u001b[1;33m,\u001b[0m \u001b[0mmode\u001b[0m\u001b[1;33m)\u001b[0m\u001b[1;33m:\u001b[0m\u001b[1;33m\u001b[0m\u001b[1;33m\u001b[0m\u001b[0m\n\u001b[1;32m--> 251\u001b[1;33m         \u001b[0msuper\u001b[0m\u001b[1;33m(\u001b[0m\u001b[0m_open_file\u001b[0m\u001b[1;33m,\u001b[0m \u001b[0mself\u001b[0m\u001b[1;33m)\u001b[0m\u001b[1;33m.\u001b[0m\u001b[0m__init__\u001b[0m\u001b[1;33m(\u001b[0m\u001b[0mopen\u001b[0m\u001b[1;33m(\u001b[0m\u001b[0mname\u001b[0m\u001b[1;33m,\u001b[0m \u001b[0mmode\u001b[0m\u001b[1;33m)\u001b[0m\u001b[1;33m)\u001b[0m\u001b[1;33m\u001b[0m\u001b[1;33m\u001b[0m\u001b[0m\n\u001b[0m\u001b[0;32m    252\u001b[0m \u001b[1;33m\u001b[0m\u001b[0m\n\u001b[0;32m    253\u001b[0m     \u001b[1;32mdef\u001b[0m \u001b[0m__exit__\u001b[0m\u001b[1;33m(\u001b[0m\u001b[0mself\u001b[0m\u001b[1;33m,\u001b[0m \u001b[1;33m*\u001b[0m\u001b[0margs\u001b[0m\u001b[1;33m)\u001b[0m\u001b[1;33m:\u001b[0m\u001b[1;33m\u001b[0m\u001b[1;33m\u001b[0m\u001b[0m\n",
      "\u001b[1;31mFileNotFoundError\u001b[0m: [Errno 2] No such file or directory: 'ResidualNN_600.pth'"
     ]
    }
   ],
   "source": [
    "PATH = \"ResidualNN_600.pth\"\n",
    "\n",
    "model = ResidualNN_600( )\n",
    "model.load_state_dict(torch.load(PATH))\n",
    "model.eval()"
   ]
  },
  {
   "cell_type": "code",
   "execution_count": null,
   "id": "717f118d",
   "metadata": {},
   "outputs": [
    {
     "name": "stderr",
     "output_type": "stream",
     "text": [
      "100%|██████████| 1085/1085 [00:17<00:00, 63.29it/s]\n"
     ]
    },
    {
     "name": "stdout",
     "output_type": "stream",
     "text": [
      "Accuracy of the network on the 10000 test images: 85 %\n"
     ]
    },
    {
     "data": {
      "image/png": "[encoded data removed]",
      "text/plain": [
       "<Figure size 640x480 with 2 Axes>"
      ]
     },
     "metadata": {},
     "output_type": "display_data"
    }
   ],
   "source": [
    "test(data_val_600_dl)"
   ]
  },
  {
   "attachments": {},
   "cell_type": "markdown",
   "id": "6e724a17",
   "metadata": {},
   "source": [
    "## Test on dataset with length 215 </div>"
   ]
  },
  {
   "cell_type": "code",
   "execution_count": null,
   "id": "8604bdd9",
   "metadata": {},
   "outputs": [
    {
     "data": {
      "text/plain": [
       "ResidualNN_215(\n",
       "  (conv1): Conv2d(2, 16, kernel_size=(1, 1), stride=(1, 1))\n",
       "  (res1): ResidualBlock(\n",
       "    (conv1): Sequential(\n",
       "      (0): Conv2d(16, 16, kernel_size=(1, 1), stride=(1, 1), padding=same, dilation=(2, 2))\n",
       "      (1): BatchNorm2d(16, eps=1e-05, momentum=0.1, affine=True, track_running_stats=True)\n",
       "      (2): ReLU()\n",
       "    )\n",
       "    (relu): ReLU()\n",
       "    (batch_norm): BatchNorm2d(16, eps=1e-05, momentum=0.1, affine=True, track_running_stats=True)\n",
       "  )\n",
       "  (res2): ResidualBlock(\n",
       "    (conv1): Sequential(\n",
       "      (0): Conv2d(16, 16, kernel_size=(1, 1), stride=(1, 1), padding=same, dilation=(4, 4))\n",
       "      (1): BatchNorm2d(16, eps=1e-05, momentum=0.1, affine=True, track_running_stats=True)\n",
       "      (2): ReLU()\n",
       "    )\n",
       "    (relu): ReLU()\n",
       "    (batch_norm): BatchNorm2d(16, eps=1e-05, momentum=0.1, affine=True, track_running_stats=True)\n",
       "  )\n",
       "  (pool): MaxPool2d(kernel_size=3, stride=3, padding=0, dilation=1, ceil_mode=False)\n",
       "  (dropout): Dropout(p=0.5, inplace=False)\n",
       "  (fc1): Linear(in_features=7952, out_features=120, bias=True)\n",
       "  (fc2): Linear(in_features=120, out_features=84, bias=True)\n",
       "  (fc3): Linear(in_features=84, out_features=2, bias=True)\n",
       "  (soft): Softmax(dim=1)\n",
       ")"
      ]
     },
     "execution_count": 40,
     "metadata": {},
     "output_type": "execute_result"
    }
   ],
   "source": [
    "PATH = \"ResidualNN_215.pth\"\n",
    "\n",
    "model = ResidualNN_215()\n",
    "model.load_state_dict(torch.load(PATH))\n",
    "model.eval()"
   ]
  },
  {
   "cell_type": "code",
   "execution_count": null,
   "id": "2f894fb2",
   "metadata": {},
   "outputs": [
    {
     "name": "stderr",
     "output_type": "stream",
     "text": [
      "100%|██████████| 200/200 [00:01<00:00, 166.17it/s]\n"
     ]
    },
    {
     "name": "stdout",
     "output_type": "stream",
     "text": [
      "Accuracy of the network on the 10000 test images: 76 %\n"
     ]
    },
    {
     "data": {
      "image/png": "[encoded data removed]",
      "text/plain": [
       "<Figure size 640x480 with 2 Axes>"
      ]
     },
     "metadata": {},
     "output_type": "display_data"
    }
   ],
   "source": [
    "test(data_val_215_dl)"
   ]
  },
  {
   "attachments": {},
   "cell_type": "markdown",
   "id": "65615fac",
   "metadata": {},
   "source": [
    "## Test on dataset cut around the mutation with different length </div>"
   ]
  },
  {
   "cell_type": "code",
   "execution_count": null,
   "id": "8a65576a",
   "metadata": {},
   "outputs": [],
   "source": [
    "data_val_cut_5_ds = ProteinDataset(data_val_cut_5, VAL_CUT_5, SEQUENCE_215, transform=transfrom_data)\n",
    "data_val_cut_10_ds = ProteinDataset(data_val_cut_10, VAL_CUT_10, SEQUENCE_215, transform=transfrom_data)\n",
    "data_val_cut_20_ds = ProteinDataset(data_val_cut_20, VAL_CUT_20, SEQUENCE_215, transform=transfrom_data)\n",
    "data_val_cut_50_ds = ProteinDataset(data_val_cut_50, VAL_CUT_50, SEQUENCE_215, transform=transfrom_data)"
   ]
  },
  {
   "cell_type": "code",
   "execution_count": null,
   "id": "a1c4a8af",
   "metadata": {},
   "outputs": [],
   "source": [
    "data_val_cut_5_dl = DataLoader(data_val_cut_5_ds, batch_size = 1)\n",
    "data_val_cut_10_dl = DataLoader(data_val_cut_10_ds, batch_size = 1)\n",
    "data_val_cut_20_dl = DataLoader(data_val_cut_20_ds, batch_size = 1)\n",
    "data_val_cut_50_dl = DataLoader(data_val_cut_50_ds, batch_size = 1)"
   ]
  },
  {
   "cell_type": "code",
   "execution_count": null,
   "id": "e18ee738",
   "metadata": {},
   "outputs": [
    {
     "name": "stderr",
     "output_type": "stream",
     "text": [
      "100%|██████████| 200/200 [00:01<00:00, 143.28it/s]\n"
     ]
    },
    {
     "name": "stdout",
     "output_type": "stream",
     "text": [
      "Accuracy of the network on the 10000 test images: 57 %\n"
     ]
    },
    {
     "data": {
      "image/png": "[encoded data removed]",
      "text/plain": [
       "<Figure size 640x480 with 2 Axes>"
      ]
     },
     "metadata": {},
     "output_type": "display_data"
    }
   ],
   "source": [
    "test(data_val_cut_5_dl)"
   ]
  },
  {
   "cell_type": "code",
   "execution_count": null,
   "id": "af3da927",
   "metadata": {},
   "outputs": [
    {
     "name": "stderr",
     "output_type": "stream",
     "text": [
      "100%|██████████| 200/200 [00:01<00:00, 143.05it/s]\n"
     ]
    },
    {
     "name": "stdout",
     "output_type": "stream",
     "text": [
      "Accuracy of the network on the 10000 test images: 50 %\n"
     ]
    },
    {
     "data": {
      "image/png": "[encoded data removed]",
      "text/plain": [
       "<Figure size 640x480 with 2 Axes>"
      ]
     },
     "metadata": {},
     "output_type": "display_data"
    }
   ],
   "source": [
    "test(data_val_cut_10_dl)"
   ]
  },
  {
   "cell_type": "code",
   "execution_count": null,
   "id": "4a269e3e",
   "metadata": {},
   "outputs": [
    {
     "name": "stderr",
     "output_type": "stream",
     "text": [
      "100%|██████████| 200/200 [00:01<00:00, 159.20it/s]\n"
     ]
    },
    {
     "name": "stdout",
     "output_type": "stream",
     "text": [
      "Accuracy of the network on the 10000 test images: 53 %\n"
     ]
    },
    {
     "data": {
      "image/png": "[encoded data removed]",
      "text/plain": [
       "<Figure size 640x480 with 2 Axes>"
      ]
     },
     "metadata": {},
     "output_type": "display_data"
    }
   ],
   "source": [
    "test(data_val_cut_20_dl)"
   ]
  },
  {
   "cell_type": "code",
   "execution_count": null,
   "id": "8f1475ca",
   "metadata": {},
   "outputs": [
    {
     "name": "stderr",
     "output_type": "stream",
     "text": [
      "100%|██████████| 200/200 [00:01<00:00, 188.99it/s]\n"
     ]
    },
    {
     "name": "stdout",
     "output_type": "stream",
     "text": [
      "Accuracy of the network on the 10000 test images: 53 %\n"
     ]
    },
    {
     "data": {
      "image/png": "[encoded data removed]",
      "text/plain": [
       "<Figure size 640x480 with 2 Axes>"
      ]
     },
     "metadata": {},
     "output_type": "display_data"
    }
   ],
   "source": [
    "test(data_val_cut_50_dl)"
   ]
  },
  {
   "attachments": {},
   "cell_type": "markdown",
   "id": "37dc8c41",
   "metadata": {},
   "source": [
    "# 3 |</span></b> Convolutional Neural Network </div>\n",
    "\n",
    "# 3.1 |</span></b> Load Data </div>"
   ]
  },
  {
   "cell_type": "markdown",
   "id": "9b8ab527",
   "metadata": {},
   "source": [
    "We use the same input format as before"
   ]
  },
  {
   "cell_type": "code",
   "execution_count": null,
   "id": "de039adc",
   "metadata": {},
   "outputs": [],
   "source": [
    "data_train_600_dl = DataLoader(data_train_600_ds, batch_size=4)\n",
    "data_val_600_dl = DataLoader(data_val_600_ds, batch_size=1)\n",
    "\n",
    "data_train_215_dl = DataLoader(data_train_215_ds, batch_size=2)\n",
    "data_val_215_dl = DataLoader(data_val_215_ds, batch_size=2)"
   ]
  },
  {
   "cell_type": "code",
   "execution_count": null,
   "id": "de617a7c",
   "metadata": {
    "scrolled": true
   },
   "outputs": [
    {
     "data": {
      "text/plain": [
       "torch.Size([2, 2, 215, 21])"
      ]
     },
     "execution_count": 168,
     "metadata": {},
     "output_type": "execute_result"
    }
   ],
   "source": [
    "inputs, labels = next(iter(data_train_215_dl))\n",
    "inputs.shape"
   ]
  },
  {
   "attachments": {},
   "cell_type": "markdown",
   "id": "6595ccf5",
   "metadata": {},
   "source": [
    "# 3.2 |</span></b> Define the model </div>\n"
   ]
  },
  {
   "cell_type": "code",
   "execution_count": null,
   "id": "5b6707f3",
   "metadata": {},
   "outputs": [],
   "source": [
    "# Useful Function to calculate the output size of a CNN layer\n",
    "# before making it an input into the linear layer\n",
    "\n",
    "def findConv2dOutShape(hin,win,conv,pool=0):\n",
    "    # get conv arguments\n",
    "    kernel_size=conv.kernel_size\n",
    "    stride=conv.stride\n",
    "    padding=conv.padding\n",
    "    dilation=conv.dilation\n",
    "\n",
    "    hout=np.floor((hin+2*padding[0]-dilation[0]*(kernel_size[0]-1)-1)/stride[0]+1)\n",
    "    wout=np.floor((win+2*padding[1]-dilation[1]*(kernel_size[1]-1)-1)/stride[1]+1)\n",
    "\n",
    "    if pool:\n",
    "        hout/=pool\n",
    "        wout/=pool\n",
    "    return int(hout),int(wout)"
   ]
  },
  {
   "cell_type": "code",
   "execution_count": null,
   "id": "3d4e4543",
   "metadata": {},
   "outputs": [],
   "source": [
    "class Network(nn.Module):\n",
    "    \n",
    "    # Network Initialisation\n",
    "    def __init__(self, params):\n",
    "        \n",
    "        super(Network, self).__init__()\n",
    "    \n",
    "        Cin,Hin,Win=params[\"shape_in\"]\n",
    "        init_f=params[\"initial_filters\"] \n",
    "        num_fc1=params[\"num_fc1\"]  \n",
    "        num_classes=params[\"num_classes\"] \n",
    "        self.dropout_rate=params[\"dropout_rate\"] \n",
    "        \n",
    "        # Convolution Layers\n",
    "        self.conv1 = nn.Conv2d(Cin, init_f, kernel_size=3, stride=2)\n",
    "        h,w=findConv2dOutShape(Hin,Win,self.conv1)\n",
    "        self.conv2 = nn.Conv2d(init_f, 2*init_f, kernel_size=3, stride=3)\n",
    "        h,w=findConv2dOutShape(h,w,self.conv2)\n",
    "        \n",
    "        # compute the flatten size\n",
    "        self.num_flatten=h*w*2*init_f\n",
    "        self.fc1 = nn.Linear(self.num_flatten, num_fc1)\n",
    "        self.fc2 = nn.Linear(num_fc1, num_classes)\n",
    "\n",
    "    def forward(self,X):\n",
    "        \n",
    "        # Convolution & Pool Layers\n",
    "        X = F.relu(self.conv1(X))\n",
    "        X = F.relu(self.conv2(X))\n",
    "\n",
    "        X = X.view(X.size(0), -1)\n",
    "        \n",
    "        X = F.relu(self.fc1(X))\n",
    "        X=F.dropout(X, self.dropout_rate)\n",
    "        X = self.fc2(X)\n",
    "        return F.log_softmax(X, dim=1)\n",
    "    "
   ]
  },
  {
   "cell_type": "code",
   "execution_count": null,
   "id": "6e0671a1",
   "metadata": {},
   "outputs": [
    {
     "name": "stdout",
     "output_type": "stream",
     "text": [
      "Network(\n",
      "  (conv1): Conv2d(2, 90, kernel_size=(3, 3), stride=(2, 2))\n",
      "  (conv2): Conv2d(90, 180, kernel_size=(3, 3), stride=(3, 3))\n",
      "  (fc1): Linear(in_features=18900, out_features=1000, bias=True)\n",
      "  (fc2): Linear(in_features=1000, out_features=2, bias=True)\n",
      ")\n"
     ]
    }
   ],
   "source": [
    "print(model)"
   ]
  },
  {
   "attachments": {},
   "cell_type": "markdown",
   "id": "966b396e",
   "metadata": {},
   "source": [
    "#  <style> \n",
    "    .ma-classe {\n",
    "    font-size: 30px;\n",
    "}\n",
    "</style>\n",
    "<div class=\"alert alert-success\">3.3 |</span></b> Define the loss function, the optimizer and the hyperparameter</div>\n"
   ]
  },
  {
   "cell_type": "code",
   "execution_count": null,
   "id": "cfaead4c",
   "metadata": {},
   "outputs": [],
   "source": [
    "# Neural Network Predefined Parameters\n",
    "params_model={\n",
    "        \"shape_in\": tuple(inputs.shape[1:]), \n",
    "        \"initial_filters\": 90,    \n",
    "        \"num_fc1\": 1000,\n",
    "        \"dropout_rate\": 0.25,\n",
    "        \"num_classes\": 2}\n",
    "\n",
    "# Create instantiation of Network class\n",
    "cnn_model = Network(params_model)\n",
    "\n",
    "# define computation hardware approach (GPU/CPU)\n",
    "device = torch.device('cuda' if torch.cuda.is_available() else 'cpu')\n",
    "model = cnn_model.to(device)\n",
    "loss_func = nn.NLLLoss(reduction=\"sum\")"
   ]
  },
  {
   "cell_type": "code",
   "execution_count": null,
   "id": "9630cce4",
   "metadata": {},
   "outputs": [],
   "source": [
    "from torch import optim\n",
    "opt = optim.Adam(cnn_model.parameters(), lr=3e-4)\n",
    "lr_scheduler = ReduceLROnPlateau(opt, mode='min',factor=0.5, patience=20,verbose=1)"
   ]
  },
  {
   "cell_type": "markdown",
   "id": "8b4e9dcd",
   "metadata": {},
   "source": [
    "#  <style> \n",
    "    .ma-classe {\n",
    "    font-size: 30px;\n",
    "}\n",
    "</style>\n",
    "<div class=\"alert alert-success\">3.5 |</span></b> Training </div>\n"
   ]
  },
  {
   "attachments": {},
   "cell_type": "markdown",
   "id": "8080e3ed",
   "metadata": {},
   "source": [
    "## 3.5.1 |</span></b> Helpers function </div>\n"
   ]
  },
  {
   "cell_type": "code",
   "execution_count": null,
   "id": "b3bd80b4",
   "metadata": {},
   "outputs": [],
   "source": [
    "''' Helper Functions'''\n",
    "\n",
    "# Function to get the learning rate\n",
    "def get_lr(opt):\n",
    "    for param_group in opt.param_groups:\n",
    "        return param_group['lr']\n",
    "\n",
    "# Function to compute the loss value per batch of data\n",
    "def loss_batch(loss_func, output, target, opt=None):\n",
    "\n",
    "    loss = loss_func(output, target) # get loss\n",
    "    pred = output.argmax(dim=1, keepdim=True) # Get Output Class\n",
    "    #print(\"pred : \", pred[:,0])\n",
    "    #print(\"target : \", target)\n",
    "    metric_b=pred.eq(target.view_as(pred)).sum().item() # get performance metric\n",
    "    #print('acc : ', acc)\n",
    "    #print('f1 : ', f1)\n",
    "    \n",
    "    if opt is not None:\n",
    "        opt.zero_grad()\n",
    "        loss.backward()\n",
    "        opt.step()\n",
    "\n",
    "    return loss.item(), metric_b\n",
    "\n",
    "# Compute the loss value & performance metric for the entire dataset (epoch)\n",
    "def loss_epoch(model,loss_func,dataset_dl,check=False,opt=None):\n",
    "    \n",
    "    run_loss=0.0 \n",
    "    t_metric=0.0\n",
    "    acc_metric=0.0\n",
    "    f1_metric=0.0\n",
    "\n",
    "    len_data=len(dataset_dl.dataset)\n",
    "\n",
    "    # internal loop over dataset\n",
    "    for xb, yb in tqdm(dataset_dl):\n",
    "        # move batch to device\n",
    "        xb=xb.to(device)\n",
    "        yb=yb.to(device)\n",
    "        output=model(xb) # get model output\n",
    "        loss_b,metric_b=loss_batch(loss_func, output, yb, opt) # get loss per batch\n",
    "        run_loss+=loss_b        # update running loss\n",
    "\n",
    "        if metric_b is not None: # update running metric\n",
    "            t_metric+=metric_b\n",
    "            \n",
    "\n",
    "        # break the loop in case of sanity check\n",
    "        if check is True:\n",
    "            break\n",
    "    \n",
    "    loss=run_loss/float(len_data)  # average loss value\n",
    "    metric=t_metric/float(len_data) # average metric value\n",
    "    \n",
    "    return loss, metric"
   ]
  },
  {
   "attachments": {},
   "cell_type": "markdown",
   "id": "21668b26",
   "metadata": {},
   "source": [
    "## 3.5.2 |</span></b> Train function</div>"
   ]
  },
  {
   "cell_type": "code",
   "execution_count": null,
   "id": "9b7b3e8d",
   "metadata": {
    "scrolled": true
   },
   "outputs": [],
   "source": [
    "def train_val(model, params,verbose=True):\n",
    "    \n",
    "    # Get the parameters\n",
    "    epochs=params[\"epochs\"]\n",
    "    loss_func=params[\"f_loss\"]\n",
    "    opt=params[\"optimiser\"]\n",
    "    train_dl=params[\"train\"]\n",
    "    val_dl=params[\"val\"]\n",
    "    check=params[\"check\"]\n",
    "    lr_scheduler=params[\"lr_change\"]\n",
    "    weight_path=params[\"weight_path\"]\n",
    "    \n",
    "    loss_history={\"train\": [],\"val\": []} # history of loss values in each epoch\n",
    "    metric_history={\"train\": [],\"val\": []} # histroy of metric values in each epoch\n",
    "    best_model_wts = copy.deepcopy(model.state_dict()) # a deep copy of weights for the best performing model\n",
    "    best_loss=float('inf') # initialize best loss to a large value\n",
    "\n",
    "\n",
    "    # first step\n",
    "    train_loss, train_metric=loss_epoch(model,loss_func,train_dl,check,opt)\n",
    "    val_loss, val_metric=loss_epoch(model,loss_func,val_dl,check)\n",
    "    metric_history[\"train\"].append(train_metric)\n",
    "    metric_history[\"val\"].append(val_metric)\n",
    "    \n",
    "    # main loop\n",
    "    for epoch in range(1, epochs+1):\n",
    "        \n",
    "        ''' Get the Learning Rate '''\n",
    "        current_lr=get_lr(opt)\n",
    "        if(verbose):\n",
    "            print('Epoch {}/{}, current lr={}'.format(epoch, epochs, current_lr))\n",
    "        \n",
    "        ''' Train the Model on the Training Set '''\n",
    "        model.train()\n",
    "        train_loss, train_metric=loss_epoch(model,loss_func,train_dl,check,opt)\n",
    "\n",
    "        ''' Collect loss and metric for training dataset ''' \n",
    "        loss_history[\"train\"].append(train_loss)\n",
    "        metric_history[\"train\"].append(train_metric)\n",
    "        \n",
    "        ''' Evaluate model on validation dataset '''\n",
    "        model.eval()\n",
    "        with torch.no_grad():\n",
    "            val_loss, val_metric=loss_epoch(model,loss_func,val_dl,check)\n",
    "        \n",
    "        # store best model\n",
    "        if val_loss < best_loss:\n",
    "            best_loss = val_loss\n",
    "            best_model_wts = copy.deepcopy(model.state_dict())\n",
    "            \n",
    "            # store weights into a local file\n",
    "            torch.save(model.state_dict(), weight_path)\n",
    "            if(verbose):\n",
    "                print(\"Copied best model weights!\")\n",
    "        \n",
    "        # collect loss and metric for validation dataset\n",
    "        loss_history[\"val\"].append(val_loss)\n",
    "        metric_history[\"val\"].append(val_metric)\n",
    "        \n",
    "        # learning rate schedule\n",
    "        lr_scheduler.step(val_loss)\n",
    "        if current_lr != get_lr(opt):\n",
    "            if(verbose):\n",
    "                print(\"Loading best model weights!\")\n",
    "            model.load_state_dict(best_model_wts) \n",
    "\n",
    "        if(verbose):\n",
    "            print(f\"train loss: {train_loss:.6f}, val loss: {val_loss:.6f}, acc: {100*val_metric:.4g}\")\n",
    "            print(\"-\"*10) \n",
    "        \n",
    "        if(val_metric>0.87):\n",
    "            break\n",
    "        \n",
    "\n",
    "    # load best model weights\n",
    "    model.load_state_dict(best_model_wts)\n",
    "\n",
    "    torch.save(model.state_dict(), \"saved_models/model_seq_215\")\n",
    "        \n",
    "    return model, loss_history, metric_history"
   ]
  },
  {
   "cell_type": "code",
   "execution_count": null,
   "id": "97917700",
   "metadata": {},
   "outputs": [
    {
     "name": "stderr",
     "output_type": "stream",
     "text": [
      "100%|██████████| 400/400 [01:28<00:00,  4.50it/s]\n",
      "100%|██████████| 100/100 [00:01<00:00, 62.17it/s]\n"
     ]
    },
    {
     "name": "stdout",
     "output_type": "stream",
     "text": [
      "Epoch 1/3, current lr=0.0003\n"
     ]
    },
    {
     "name": "stderr",
     "output_type": "stream",
     "text": [
      "100%|██████████| 400/400 [01:23<00:00,  4.79it/s]\n",
      "100%|██████████| 100/100 [00:01<00:00, 67.62it/s]\n"
     ]
    },
    {
     "name": "stdout",
     "output_type": "stream",
     "text": [
      "Copied best model weights!\n",
      "train loss: 0.408756, val loss: 0.524324, acc: 78\n",
      "----------\n",
      "Epoch 2/3, current lr=0.0003\n"
     ]
    },
    {
     "name": "stderr",
     "output_type": "stream",
     "text": [
      "100%|██████████| 400/400 [01:21<00:00,  4.93it/s]\n",
      "100%|██████████| 100/100 [00:01<00:00, 83.17it/s]\n"
     ]
    },
    {
     "name": "stdout",
     "output_type": "stream",
     "text": [
      "Copied best model weights!\n",
      "train loss: 0.317788, val loss: 0.486449, acc: 78.5\n",
      "----------\n",
      "Epoch 3/3, current lr=0.0003\n"
     ]
    },
    {
     "name": "stderr",
     "output_type": "stream",
     "text": [
      "100%|██████████| 400/400 [01:19<00:00,  5.02it/s]\n",
      "100%|██████████| 100/100 [00:01<00:00, 78.36it/s]\n"
     ]
    },
    {
     "name": "stdout",
     "output_type": "stream",
     "text": [
      "train loss: 0.276635, val loss: 0.578912, acc: 77\n",
      "----------\n"
     ]
    }
   ],
   "source": [
    "params_train={\n",
    " \"train\": data_train_215_dl,\"val\": data_val_215_dl,\n",
    " \"epochs\": 3,\n",
    " \"optimiser\": optim.Adam(cnn_model.parameters(),\n",
    "                         lr=3e-4),\n",
    " \"lr_change\": ReduceLROnPlateau(opt,\n",
    "                                mode='min',\n",
    "                                factor=0.5,\n",
    "                                patience=20,\n",
    "                                verbose=1),\n",
    " \"f_loss\": nn.NLLLoss(reduction=\"sum\"),\n",
    " \"weight_path\": \"weights.pt\",\n",
    " \"check\": False, \n",
    "}\n",
    "\n",
    "''' Actual Train / Evaluation of CNN Model '''\n",
    "# train and validate the model\n",
    "cnn_model,loss_hist,metric_hist=train_val(cnn_model,params_train)"
   ]
  },
  {
   "cell_type": "code",
   "execution_count": null,
   "id": "39d60640",
   "metadata": {},
   "outputs": [],
   "source": [
    "torch.save(model.state_dict(), \"saved_models/model_seq_215\")"
   ]
  },
  {
   "cell_type": "code",
   "execution_count": null,
   "id": "347bb425",
   "metadata": {},
   "outputs": [
    {
     "data": {
      "application/vnd.plotly.v1+json": {
       "config": {
        "plotlyServerURL": "https://plot.ly"
       },
       "data": [
        {
         "name": "loss_hist[\"train\"]",
         "type": "scatter",
         "x": [
          0,
          1,
          2,
          3
         ],
         "xaxis": "x",
         "y": [
          0.4087560399220092,
          0.31778790153111913,
          0.27663457156908405
         ],
         "yaxis": "y"
        },
        {
         "name": "loss_hist[\"val\"]",
         "type": "scatter",
         "x": [
          0,
          1,
          2,
          3
         ],
         "xaxis": "x",
         "y": [
          0.524323562067002,
          0.4864485528320074,
          0.5789121372753289
         ],
         "yaxis": "y"
        },
        {
         "name": "metric_hist[\"train\"]",
         "type": "scatter",
         "x": [
          0,
          1,
          2,
          3
         ],
         "xaxis": "x2",
         "y": [
          0.6175,
          0.8225,
          0.8525,
          0.86
         ],
         "yaxis": "y2"
        },
        {
         "name": "metric_hist[\"val\"]",
         "type": "scatter",
         "x": [
          0,
          1,
          2,
          3
         ],
         "xaxis": "x2",
         "y": [
          0.715,
          0.78,
          0.785,
          0.77
         ],
         "yaxis": "y2"
        }
       ],
       "layout": {
        "annotations": [
         {
          "font": {
           "size": 16
          },
          "showarrow": false,
          "text": "lost_hist",
          "x": 0.225,
          "xanchor": "center",
          "xref": "paper",
          "y": 1,
          "yanchor": "bottom",
          "yref": "paper"
         },
         {
          "font": {
           "size": 16
          },
          "showarrow": false,
          "text": "metric_hist",
          "x": 0.775,
          "xanchor": "center",
          "xref": "paper",
          "y": 1,
          "yanchor": "bottom",
          "yref": "paper"
         }
        ],
        "height": 300,
        "margin": {
         "b": 0,
         "l": 0,
         "r": 0,
         "t": 60
        },
        "template": {
         "data": {
          "bar": [
           {
            "error_x": {
             "color": "#2a3f5f"
            },
            "error_y": {
             "color": "#2a3f5f"
            },
            "marker": {
             "line": {
              "color": "white",
              "width": 0.5
             },
             "pattern": {
              "fillmode": "overlay",
              "size": 10,
              "solidity": 0.2
             }
            },
            "type": "bar"
           }
          ],
          "barpolar": [
           {
            "marker": {
             "line": {
              "color": "white",
              "width": 0.5
             },
             "pattern": {
              "fillmode": "overlay",
              "size": 10,
              "solidity": 0.2
             }
            },
            "type": "barpolar"
           }
          ],
          "carpet": [
           {
            "aaxis": {
             "endlinecolor": "#2a3f5f",
             "gridcolor": "#C8D4E3",
             "linecolor": "#C8D4E3",
             "minorgridcolor": "#C8D4E3",
             "startlinecolor": "#2a3f5f"
            },
            "baxis": {
             "endlinecolor": "#2a3f5f",
             "gridcolor": "#C8D4E3",
             "linecolor": "#C8D4E3",
             "minorgridcolor": "#C8D4E3",
             "startlinecolor": "#2a3f5f"
            },
            "type": "carpet"
           }
          ],
          "choropleth": [
           {
            "colorbar": {
             "outlinewidth": 0,
             "ticks": ""
            },
            "type": "choropleth"
           }
          ],
          "contour": [
           {
            "colorbar": {
             "outlinewidth": 0,
             "ticks": ""
            },
            "colorscale": [
             [
              0,
              "#0d0887"
             ],
             [
              0.1111111111111111,
              "#46039f"
             ],
             [
              0.2222222222222222,
              "#7201a8"
             ],
             [
              0.3333333333333333,
              "#9c179e"
             ],
             [
              0.4444444444444444,
              "#bd3786"
             ],
             [
              0.5555555555555556,
              "#d8576b"
             ],
             [
              0.6666666666666666,
              "#ed7953"
             ],
             [
              0.7777777777777778,
              "#fb9f3a"
             ],
             [
              0.8888888888888888,
              "#fdca26"
             ],
             [
              1,
              "#f0f921"
             ]
            ],
            "type": "contour"
           }
          ],
          "contourcarpet": [
           {
            "colorbar": {
             "outlinewidth": 0,
             "ticks": ""
            },
            "type": "contourcarpet"
           }
          ],
          "heatmap": [
           {
            "colorbar": {
             "outlinewidth": 0,
             "ticks": ""
            },
            "colorscale": [
             [
              0,
              "#0d0887"
             ],
             [
              0.1111111111111111,
              "#46039f"
             ],
             [
              0.2222222222222222,
              "#7201a8"
             ],
             [
              0.3333333333333333,
              "#9c179e"
             ],
             [
              0.4444444444444444,
              "#bd3786"
             ],
             [
              0.5555555555555556,
              "#d8576b"
             ],
             [
              0.6666666666666666,
              "#ed7953"
             ],
             [
              0.7777777777777778,
              "#fb9f3a"
             ],
             [
              0.8888888888888888,
              "#fdca26"
             ],
             [
              1,
              "#f0f921"
             ]
            ],
            "type": "heatmap"
           }
          ],
          "heatmapgl": [
           {
            "colorbar": {
             "outlinewidth": 0,
             "ticks": ""
            },
            "colorscale": [
             [
              0,
              "#0d0887"
             ],
             [
              0.1111111111111111,
              "#46039f"
             ],
             [
              0.2222222222222222,
              "#7201a8"
             ],
             [
              0.3333333333333333,
              "#9c179e"
             ],
             [
              0.4444444444444444,
              "#bd3786"
             ],
             [
              0.5555555555555556,
              "#d8576b"
             ],
             [
              0.6666666666666666,
              "#ed7953"
             ],
             [
              0.7777777777777778,
              "#fb9f3a"
             ],
             [
              0.8888888888888888,
              "#fdca26"
             ],
             [
              1,
              "#f0f921"
             ]
            ],
            "type": "heatmapgl"
           }
          ],
          "histogram": [
           {
            "marker": {
             "pattern": {
              "fillmode": "overlay",
              "size": 10,
              "solidity": 0.2
             }
            },
            "type": "histogram"
           }
          ],
          "histogram2d": [
           {
            "colorbar": {
             "outlinewidth": 0,
             "ticks": ""
            },
            "colorscale": [
             [
              0,
              "#0d0887"
             ],
             [
              0.1111111111111111,
              "#46039f"
             ],
             [
              0.2222222222222222,
              "#7201a8"
             ],
             [
              0.3333333333333333,
              "#9c179e"
             ],
             [
              0.4444444444444444,
              "#bd3786"
             ],
             [
              0.5555555555555556,
              "#d8576b"
             ],
             [
              0.6666666666666666,
              "#ed7953"
             ],
             [
              0.7777777777777778,
              "#fb9f3a"
             ],
             [
              0.8888888888888888,
              "#fdca26"
             ],
             [
              1,
              "#f0f921"
             ]
            ],
            "type": "histogram2d"
           }
          ],
          "histogram2dcontour": [
           {
            "colorbar": {
             "outlinewidth": 0,
             "ticks": ""
            },
            "colorscale": [
             [
              0,
              "#0d0887"
             ],
             [
              0.1111111111111111,
              "#46039f"
             ],
             [
              0.2222222222222222,
              "#7201a8"
             ],
             [
              0.3333333333333333,
              "#9c179e"
             ],
             [
              0.4444444444444444,
              "#bd3786"
             ],
             [
              0.5555555555555556,
              "#d8576b"
             ],
             [
              0.6666666666666666,
              "#ed7953"
             ],
             [
              0.7777777777777778,
              "#fb9f3a"
             ],
             [
              0.8888888888888888,
              "#fdca26"
             ],
             [
              1,
              "#f0f921"
             ]
            ],
            "type": "histogram2dcontour"
           }
          ],
          "mesh3d": [
           {
            "colorbar": {
             "outlinewidth": 0,
             "ticks": ""
            },
            "type": "mesh3d"
           }
          ],
          "parcoords": [
           {
            "line": {
             "colorbar": {
              "outlinewidth": 0,
              "ticks": ""
             }
            },
            "type": "parcoords"
           }
          ],
          "pie": [
           {
            "automargin": true,
            "type": "pie"
           }
          ],
          "scatter": [
           {
            "fillpattern": {
             "fillmode": "overlay",
             "size": 10,
             "solidity": 0.2
            },
            "type": "scatter"
           }
          ],
          "scatter3d": [
           {
            "line": {
             "colorbar": {
              "outlinewidth": 0,
              "ticks": ""
             }
            },
            "marker": {
             "colorbar": {
              "outlinewidth": 0,
              "ticks": ""
             }
            },
            "type": "scatter3d"
           }
          ],
          "scattercarpet": [
           {
            "marker": {
             "colorbar": {
              "outlinewidth": 0,
              "ticks": ""
             }
            },
            "type": "scattercarpet"
           }
          ],
          "scattergeo": [
           {
            "marker": {
             "colorbar": {
              "outlinewidth": 0,
              "ticks": ""
             }
            },
            "type": "scattergeo"
           }
          ],
          "scattergl": [
           {
            "marker": {
             "colorbar": {
              "outlinewidth": 0,
              "ticks": ""
             }
            },
            "type": "scattergl"
           }
          ],
          "scattermapbox": [
           {
            "marker": {
             "colorbar": {
              "outlinewidth": 0,
              "ticks": ""
             }
            },
            "type": "scattermapbox"
           }
          ],
          "scatterpolar": [
           {
            "marker": {
             "colorbar": {
              "outlinewidth": 0,
              "ticks": ""
             }
            },
            "type": "scatterpolar"
           }
          ],
          "scatterpolargl": [
           {
            "marker": {
             "colorbar": {
              "outlinewidth": 0,
              "ticks": ""
             }
            },
            "type": "scatterpolargl"
           }
          ],
          "scatterternary": [
           {
            "marker": {
             "colorbar": {
              "outlinewidth": 0,
              "ticks": ""
             }
            },
            "type": "scatterternary"
           }
          ],
          "surface": [
           {
            "colorbar": {
             "outlinewidth": 0,
             "ticks": ""
            },
            "colorscale": [
             [
              0,
              "#0d0887"
             ],
             [
              0.1111111111111111,
              "#46039f"
             ],
             [
              0.2222222222222222,
              "#7201a8"
             ],
             [
              0.3333333333333333,
              "#9c179e"
             ],
             [
              0.4444444444444444,
              "#bd3786"
             ],
             [
              0.5555555555555556,
              "#d8576b"
             ],
             [
              0.6666666666666666,
              "#ed7953"
             ],
             [
              0.7777777777777778,
              "#fb9f3a"
             ],
             [
              0.8888888888888888,
              "#fdca26"
             ],
             [
              1,
              "#f0f921"
             ]
            ],
            "type": "surface"
           }
          ],
          "table": [
           {
            "cells": {
             "fill": {
              "color": "#EBF0F8"
             },
             "line": {
              "color": "white"
             }
            },
            "header": {
             "fill": {
              "color": "#C8D4E3"
             },
             "line": {
              "color": "white"
             }
            },
            "type": "table"
           }
          ]
         },
         "layout": {
          "annotationdefaults": {
           "arrowcolor": "#2a3f5f",
           "arrowhead": 0,
           "arrowwidth": 1
          },
          "autotypenumbers": "strict",
          "coloraxis": {
           "colorbar": {
            "outlinewidth": 0,
            "ticks": ""
           }
          },
          "colorscale": {
           "diverging": [
            [
             0,
             "#8e0152"
            ],
            [
             0.1,
             "#c51b7d"
            ],
            [
             0.2,
             "#de77ae"
            ],
            [
             0.3,
             "#f1b6da"
            ],
            [
             0.4,
             "#fde0ef"
            ],
            [
             0.5,
             "#f7f7f7"
            ],
            [
             0.6,
             "#e6f5d0"
            ],
            [
             0.7,
             "#b8e186"
            ],
            [
             0.8,
             "#7fbc41"
            ],
            [
             0.9,
             "#4d9221"
            ],
            [
             1,
             "#276419"
            ]
           ],
           "sequential": [
            [
             0,
             "#0d0887"
            ],
            [
             0.1111111111111111,
             "#46039f"
            ],
            [
             0.2222222222222222,
             "#7201a8"
            ],
            [
             0.3333333333333333,
             "#9c179e"
            ],
            [
             0.4444444444444444,
             "#bd3786"
            ],
            [
             0.5555555555555556,
             "#d8576b"
            ],
            [
             0.6666666666666666,
             "#ed7953"
            ],
            [
             0.7777777777777778,
             "#fb9f3a"
            ],
            [
             0.8888888888888888,
             "#fdca26"
            ],
            [
             1,
             "#f0f921"
            ]
           ],
           "sequentialminus": [
            [
             0,
             "#0d0887"
            ],
            [
             0.1111111111111111,
             "#46039f"
            ],
            [
             0.2222222222222222,
             "#7201a8"
            ],
            [
             0.3333333333333333,
             "#9c179e"
            ],
            [
             0.4444444444444444,
             "#bd3786"
            ],
            [
             0.5555555555555556,
             "#d8576b"
            ],
            [
             0.6666666666666666,
             "#ed7953"
            ],
            [
             0.7777777777777778,
             "#fb9f3a"
            ],
            [
             0.8888888888888888,
             "#fdca26"
            ],
            [
             1,
             "#f0f921"
            ]
           ]
          },
          "colorway": [
           "#636efa",
           "#EF553B",
           "#00cc96",
           "#ab63fa",
           "#FFA15A",
           "#19d3f3",
           "#FF6692",
           "#B6E880",
           "#FF97FF",
           "#FECB52"
          ],
          "font": {
           "color": "#2a3f5f"
          },
          "geo": {
           "bgcolor": "white",
           "lakecolor": "white",
           "landcolor": "white",
           "showlakes": true,
           "showland": true,
           "subunitcolor": "#C8D4E3"
          },
          "hoverlabel": {
           "align": "left"
          },
          "hovermode": "closest",
          "mapbox": {
           "style": "light"
          },
          "paper_bgcolor": "white",
          "plot_bgcolor": "white",
          "polar": {
           "angularaxis": {
            "gridcolor": "#EBF0F8",
            "linecolor": "#EBF0F8",
            "ticks": ""
           },
           "bgcolor": "white",
           "radialaxis": {
            "gridcolor": "#EBF0F8",
            "linecolor": "#EBF0F8",
            "ticks": ""
           }
          },
          "scene": {
           "xaxis": {
            "backgroundcolor": "white",
            "gridcolor": "#DFE8F3",
            "gridwidth": 2,
            "linecolor": "#EBF0F8",
            "showbackground": true,
            "ticks": "",
            "zerolinecolor": "#EBF0F8"
           },
           "yaxis": {
            "backgroundcolor": "white",
            "gridcolor": "#DFE8F3",
            "gridwidth": 2,
            "linecolor": "#EBF0F8",
            "showbackground": true,
            "ticks": "",
            "zerolinecolor": "#EBF0F8"
           },
           "zaxis": {
            "backgroundcolor": "white",
            "gridcolor": "#DFE8F3",
            "gridwidth": 2,
            "linecolor": "#EBF0F8",
            "showbackground": true,
            "ticks": "",
            "zerolinecolor": "#EBF0F8"
           }
          },
          "shapedefaults": {
           "line": {
            "color": "#2a3f5f"
           }
          },
          "ternary": {
           "aaxis": {
            "gridcolor": "#DFE8F3",
            "linecolor": "#A2B1C6",
            "ticks": ""
           },
           "baxis": {
            "gridcolor": "#DFE8F3",
            "linecolor": "#A2B1C6",
            "ticks": ""
           },
           "bgcolor": "white",
           "caxis": {
            "gridcolor": "#DFE8F3",
            "linecolor": "#A2B1C6",
            "ticks": ""
           }
          },
          "title": {
           "x": 0.05
          },
          "xaxis": {
           "automargin": true,
           "gridcolor": "#EBF0F8",
           "linecolor": "#EBF0F8",
           "ticks": "",
           "title": {
            "standoff": 15
           },
           "zerolinecolor": "#EBF0F8",
           "zerolinewidth": 2
          },
          "yaxis": {
           "automargin": true,
           "gridcolor": "#EBF0F8",
           "linecolor": "#EBF0F8",
           "ticks": "",
           "title": {
            "standoff": 15
           },
           "zerolinecolor": "#EBF0F8",
           "zerolinewidth": 2
          }
         }
        },
        "xaxis": {
         "anchor": "y",
         "domain": [
          0,
          0.45
         ]
        },
        "xaxis2": {
         "anchor": "y2",
         "domain": [
          0.55,
          1
         ]
        },
        "yaxis": {
         "anchor": "x",
         "domain": [
          0,
          1
         ]
        },
        "yaxis2": {
         "anchor": "x2",
         "domain": [
          0,
          1
         ]
        }
       }
      }
     },
     "metadata": {},
     "output_type": "display_data"
    }
   ],
   "source": [
    "# Train-Validation Progress\n",
    "epochs=params_train[\"epochs\"]\n",
    "\n",
    "fig = make_subplots(rows=1, cols=2,subplot_titles=['lost_hist','metric_hist'])\n",
    "fig.add_trace(go.Scatter(x=[*range(0,epochs+1)], y=loss_hist[\"train\"],name='loss_hist[\"train\"]'),row=1, col=1)\n",
    "fig.add_trace(go.Scatter(x=[*range(0,epochs+1)], y=loss_hist[\"val\"],name='loss_hist[\"val\"]'),row=1, col=1)\n",
    "fig.add_trace(go.Scatter(x=[*range(0,epochs+1)], y=metric_hist[\"train\"],name='metric_hist[\"train\"]'),row=1, col=2)\n",
    "fig.add_trace(go.Scatter(x=[*range(0,epochs+1)], y=metric_hist[\"val\"],name='metric_hist[\"val\"]'),row=1, col=2)\n",
    "fig.update_layout(template='plotly_white');fig.update_layout(margin={\"r\":0,\"t\":60,\"l\":0,\"b\":0},height=300)\n",
    "fig.show()"
   ]
  },
  {
   "cell_type": "markdown",
   "id": "10ad8697",
   "metadata": {},
   "source": [
    "#  <style> \n",
    "    .ma-classe {\n",
    "    font-size: 30px;\n",
    "}\n",
    "</style>\n",
    "<div class=\"alert alert-success\">3.6 |</span></b> Testing </div>\n"
   ]
  },
  {
   "cell_type": "markdown",
   "id": "9d444938",
   "metadata": {},
   "source": [
    "# <style> \n",
    "    .ma-classe {\n",
    "    font-size: 10 px;\n",
    "}\n",
    "</style>\n",
    "<div class=\"alert alert-warning\">  Test on dataset with length less than 600 </div>\n"
   ]
  },
  {
   "attachments": {},
   "cell_type": "markdown",
   "id": "d37bfa33",
   "metadata": {},
   "source": [
    "Load the model with trained on sequences of length 600 during 3 epochs."
   ]
  },
  {
   "cell_type": "code",
   "execution_count": null,
   "id": "df6a2b44",
   "metadata": {
    "scrolled": true
   },
   "outputs": [
    {
     "data": {
      "text/plain": [
       "Network(\n",
       "  (conv1): Conv2d(2, 90, kernel_size=(3, 3), stride=(2, 2))\n",
       "  (conv2): Conv2d(90, 180, kernel_size=(3, 3), stride=(3, 3))\n",
       "  (fc1): Linear(in_features=53460, out_features=1000, bias=True)\n",
       "  (fc2): Linear(in_features=1000, out_features=2, bias=True)\n",
       ")"
      ]
     },
     "execution_count": 179,
     "metadata": {},
     "output_type": "execute_result"
    }
   ],
   "source": [
    "inputs, labels = next(iter(data_train_600_dl))\n",
    "\n",
    "# Neural Network Predefined Parameters\n",
    "params_model={\n",
    "        \"shape_in\": tuple(inputs.shape[1:]), \n",
    "        \"initial_filters\": 90,    \n",
    "        \"num_fc1\": 1000,\n",
    "        \"dropout_rate\": 0.25,\n",
    "        \"num_classes\": 2}\n",
    "\n",
    "# Create instantiation of Network class\n",
    "model = Network(params_model)\n",
    "\n",
    "model.load_state_dict(torch.load(\"saved_models/model_seq_600\"))\n",
    "model.eval()"
   ]
  },
  {
   "cell_type": "code",
   "execution_count": null,
   "id": "fb00e6d3",
   "metadata": {},
   "outputs": [
    {
     "name": "stderr",
     "output_type": "stream",
     "text": [
      "100%|██████████| 1085/1085 [00:21<00:00, 49.44it/s]\n"
     ]
    },
    {
     "name": "stdout",
     "output_type": "stream",
     "text": [
      "Accuracy of the network on the 10000 test images: 88 %\n"
     ]
    },
    {
     "data": {
      "image/png": "[encoded data removed]",
      "text/plain": [
       "<Figure size 640x480 with 2 Axes>"
      ]
     },
     "metadata": {},
     "output_type": "display_data"
    }
   ],
   "source": [
    "''' Helper Functions'''\n",
    "\n",
    "# Compute the prediction\n",
    "test(data_val_600_dl)"
   ]
  },
  {
   "attachments": {},
   "cell_type": "markdown",
   "id": "3e6d0bb3",
   "metadata": {},
   "source": [
    "### Load the model trained with sequences of lengths 215"
   ]
  },
  {
   "cell_type": "code",
   "execution_count": null,
   "id": "a8122f91",
   "metadata": {},
   "outputs": [
    {
     "data": {
      "text/plain": [
       "Network(\n",
       "  (conv1): Conv2d(2, 90, kernel_size=(3, 3), stride=(2, 2))\n",
       "  (conv2): Conv2d(90, 180, kernel_size=(3, 3), stride=(3, 3))\n",
       "  (fc1): Linear(in_features=18900, out_features=1000, bias=True)\n",
       "  (fc2): Linear(in_features=1000, out_features=2, bias=True)\n",
       ")"
      ]
     },
     "execution_count": 133,
     "metadata": {},
     "output_type": "execute_result"
    }
   ],
   "source": [
    "inputs, labels = next(iter(data_train_215_dl))\n",
    "\n",
    "# Neural Network Predefined Parameters\n",
    "params_model={\n",
    "        \"shape_in\": tuple(inputs.shape[1:]), \n",
    "        \"initial_filters\": 90,    \n",
    "        \"num_fc1\": 1000,\n",
    "        \"dropout_rate\": 0.25,\n",
    "        \"num_classes\": 2}\n",
    "\n",
    "# Create instantiation of Network class\n",
    "model = Network(params_model)\n",
    "\n",
    "model.load_state_dict(torch.load(\"saved_models/model_seq_215\"))\n",
    "model.eval()"
   ]
  },
  {
   "cell_type": "code",
   "execution_count": null,
   "id": "226a9088",
   "metadata": {},
   "outputs": [
    {
     "name": "stderr",
     "output_type": "stream",
     "text": [
      "100%|██████████| 100/100 [00:01<00:00, 67.48it/s]\n"
     ]
    },
    {
     "name": "stdout",
     "output_type": "stream",
     "text": [
      "Accuracy of the network on the 10000 test images: 78 %\n"
     ]
    },
    {
     "data": {
      "image/png": "[encoded data removed]",
      "text/plain": [
       "<Figure size 640x480 with 2 Axes>"
      ]
     },
     "metadata": {},
     "output_type": "display_data"
    }
   ],
   "source": [
    "test(data_val_215_dl)"
   ]
  },
  {
   "attachments": {},
   "cell_type": "markdown",
   "id": "e788aec6",
   "metadata": {},
   "source": [
    "## Test the model on the cutted sequences"
   ]
  },
  {
   "cell_type": "code",
   "execution_count": null,
   "id": "e18ee738",
   "metadata": {},
   "outputs": [
    {
     "name": "stderr",
     "output_type": "stream",
     "text": [
      "100%|██████████| 200/200 [00:01<00:00, 128.42it/s]\n"
     ]
    },
    {
     "name": "stdout",
     "output_type": "stream",
     "text": [
      "Accuracy of the network on the 10000 test images: 51 %\n"
     ]
    },
    {
     "data": {
      "image/png": "[encoded data removed]",
      "text/plain": [
       "<Figure size 640x480 with 2 Axes>"
      ]
     },
     "metadata": {},
     "output_type": "display_data"
    }
   ],
   "source": [
    "test(data_val_cut_5_dl)"
   ]
  },
  {
   "cell_type": "code",
   "execution_count": null,
   "id": "af3da927",
   "metadata": {},
   "outputs": [
    {
     "name": "stderr",
     "output_type": "stream",
     "text": [
      "100%|██████████| 200/200 [00:01<00:00, 124.93it/s]\n"
     ]
    },
    {
     "name": "stdout",
     "output_type": "stream",
     "text": [
      "Accuracy of the network on the 10000 test images: 49 %\n"
     ]
    },
    {
     "data": {
      "image/png": "[encoded data removed]",
      "text/plain": [
       "<Figure size 640x480 with 2 Axes>"
      ]
     },
     "metadata": {},
     "output_type": "display_data"
    }
   ],
   "source": [
    "test(data_val_cut_10_dl)"
   ]
  },
  {
   "cell_type": "code",
   "execution_count": null,
   "id": "4a269e3e",
   "metadata": {},
   "outputs": [
    {
     "name": "stderr",
     "output_type": "stream",
     "text": [
      "100%|██████████| 200/200 [00:01<00:00, 126.78it/s]\n"
     ]
    },
    {
     "name": "stdout",
     "output_type": "stream",
     "text": [
      "Accuracy of the network on the 10000 test images: 46 %\n"
     ]
    },
    {
     "data": {
      "image/png": "[encoded data removed]",
      "text/plain": [
       "<Figure size 640x480 with 2 Axes>"
      ]
     },
     "metadata": {},
     "output_type": "display_data"
    }
   ],
   "source": [
    "test(data_val_cut_20_dl)"
   ]
  },
  {
   "cell_type": "code",
   "execution_count": null,
   "id": "8f1475ca",
   "metadata": {},
   "outputs": [
    {
     "name": "stderr",
     "output_type": "stream",
     "text": [
      "100%|██████████| 200/200 [00:01<00:00, 124.31it/s]\n"
     ]
    },
    {
     "name": "stdout",
     "output_type": "stream",
     "text": [
      "Accuracy of the network on the 10000 test images: 51 %\n"
     ]
    },
    {
     "data": {
      "image/png": "[encoded data removed]",
      "text/plain": [
       "<Figure size 640x480 with 2 Axes>"
      ]
     },
     "metadata": {},
     "output_type": "display_data"
    }
   ],
   "source": [
    "test(data_val_cut_50_dl)"
   ]
  }
 ],
 "metadata": {
  "kernelspec": {
   "display_name": "Python 3 (ipykernel)",
   "language": "python",
   "name": "python3"
  },
  "language_info": {
   "codemirror_mode": {
    "name": "ipython",
    "version": 3
   },
   "file_extension": ".py",
   "mimetype": "text/x-python",
   "name": "python",
   "nbconvert_exporter": "python",
   "pygments_lexer": "ipython3",
   "version": "3.9.13"
  },
  "vscode": {
   "interpreter": {
    "hash": "b0b2f7116b507a4e50fe5a1a9ad7eb2c67c50ab7d1f4b632a658c72676554ed4"
   }
  }
 },
 "nbformat": 4,
 "nbformat_minor": 5
}
